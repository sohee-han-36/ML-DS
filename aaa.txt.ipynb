{
 "cells": [
  {
   "cell_type": "markdown",
   "metadata": {
    "colab_type": "text",
    "id": "Kz9V5lVFMo86"
   },
   "source": [
    "# SC23x \n",
    "## Applied Predictive Modeling"
   ]
  },
  {
   "cell_type": "markdown",
   "metadata": {
    "colab_type": "text",
    "id": "yWOjtM9iMo87"
   },
   "source": [
    " 이번 스프린트 챌린지에서는 시카고에 있는 식당들의 정보와 해당 식당들의 위생 검사 결과에 관한 정보를 담은 데이터셋을 다루게 됩니다.\n",
    "\n",
    "데이터셋에 관한 설명은 [PDF 문서](https://data.cityofchicago.org/api/assets/BAD5301B-681A-4202-9D25-51B2CAE672FF)를 참고해주시길 바랍니다."
   ]
  },
  {
   "cell_type": "markdown",
   "metadata": {
    "colab_type": "text",
    "id": "VvBYdx2xMo88"
   },
   "source": [
    "#### 목표: 오늘 여러분은 Chicago시의 공중보건부에서 진행한 레스토랑들의 위생 검사 \"불합격\" 여부를 예측하는 모델을 만들어야 합니다.\n",
    "\n",
    "여러분의 모델이 예측할 target은 `Inspection Fail` 칼럼입니다.   \n",
    "칼럼 값은 아래와 같습니다:\n",
    "- 식당이 위생 검사에 불합격한 경우: **1**\n",
    "- 식당이 검사를 통과한 경우: **0**"
   ]
  },
  {
   "cell_type": "code",
   "execution_count": 434,
   "metadata": {
    "colab": {},
    "colab_type": "code",
    "id": "Yyc7zftTMo89"
   },
   "outputs": [],
   "source": [
    "# 데이터셋을 불러오기 위해 판다스 라이브러리를 불러옵니다\n",
    "import pandas as pd\n",
    "\n",
    "train_url = 'https://ds-lecture-data.s3.ap-northeast-2.amazonaws.com/food_inspection_sc23x/food_ins_train.csv'\n",
    "test_url  = 'https://ds-lecture-data.s3.ap-northeast-2.amazonaws.com/food_inspection_sc23x/food_ins_test.csv'\n",
    "\n",
    "# train, test 데이터셋을 불러옵니다\n",
    "train = pd.read_csv(train_url)\n",
    "test  = pd.read_csv(test_url)\n",
    "\n",
    "# 데이터셋 확인\n",
    "assert train.shape == (60000, 17)\n",
    "assert test.shape  == (20000, 17)"
   ]
  },
  {
   "cell_type": "markdown",
   "metadata": {
    "colab_type": "text",
    "id": "muEIQ4EPGVH_"
   },
   "source": [
    "# Part 1: 데이터 전처리 (Data Preprocessing)"
   ]
  },
  {
   "cell_type": "markdown",
   "metadata": {
    "colab": {},
    "colab_type": "code",
    "id": "Ao1PDJtpIWwp"
   },
   "source": [
    "## 1.1 데이터셋을 파악하기 위한 EDA를 진행하세요\n",
    "> EDA를 하는 방식 및 라이브러리에 대한 제한은 없습니다. 단, **시간 분배**에 주의하세요."
   ]
  },
  {
   "cell_type": "code",
   "execution_count": 435,
   "metadata": {},
   "outputs": [],
   "source": [
    "# 이 곳에 답안을 작성해주시길 바랍니다\n",
    "\n",
    "# 필요한 라이브러리 import\n",
    "\n",
    "import pandas as pd\n",
    "import numpy as np\n",
    "import matplotlib.pyplot as plt\n",
    "import seaborn as sns\n",
    "from sklearn.preprocessing import LabelEncoder\n",
    "import datetime as dt"
   ]
  },
  {
   "cell_type": "code",
   "execution_count": 436,
   "metadata": {},
   "outputs": [
    {
     "data": {
      "text/html": [
       "<div>\n",
       "<style scoped>\n",
       "    .dataframe tbody tr th:only-of-type {\n",
       "        vertical-align: middle;\n",
       "    }\n",
       "\n",
       "    .dataframe tbody tr th {\n",
       "        vertical-align: top;\n",
       "    }\n",
       "\n",
       "    .dataframe thead th {\n",
       "        text-align: right;\n",
       "    }\n",
       "</style>\n",
       "<table border=\"1\" class=\"dataframe\">\n",
       "  <thead>\n",
       "    <tr style=\"text-align: right;\">\n",
       "      <th></th>\n",
       "      <th>Inspection ID</th>\n",
       "      <th>DBA Name</th>\n",
       "      <th>AKA Name</th>\n",
       "      <th>License #</th>\n",
       "      <th>Facility Type</th>\n",
       "      <th>Risk</th>\n",
       "      <th>Address</th>\n",
       "      <th>City</th>\n",
       "      <th>State</th>\n",
       "      <th>Zip</th>\n",
       "      <th>Inspection Date</th>\n",
       "      <th>Inspection Type</th>\n",
       "      <th>Violations</th>\n",
       "      <th>Latitude</th>\n",
       "      <th>Longitude</th>\n",
       "      <th>Location</th>\n",
       "      <th>Inspection Fail</th>\n",
       "    </tr>\n",
       "  </thead>\n",
       "  <tbody>\n",
       "    <tr>\n",
       "      <td>0</td>\n",
       "      <td>2050629</td>\n",
       "      <td>MY SWEET STATION INC</td>\n",
       "      <td>MY SWEET STATION</td>\n",
       "      <td>2327223.0</td>\n",
       "      <td>Restaurant</td>\n",
       "      <td>Risk 1 (High)</td>\n",
       "      <td>2511 N LINCOLN AVE</td>\n",
       "      <td>CHICAGO</td>\n",
       "      <td>IL</td>\n",
       "      <td>60614.0</td>\n",
       "      <td>2017-05-18</td>\n",
       "      <td>Canvass</td>\n",
       "      <td>NaN</td>\n",
       "      <td>41.927577</td>\n",
       "      <td>-87.651528</td>\n",
       "      <td>(-87.65152817242594, 41.92757677830966)</td>\n",
       "      <td>0</td>\n",
       "    </tr>\n",
       "    <tr>\n",
       "      <td>1</td>\n",
       "      <td>2078428</td>\n",
       "      <td>OUTTAKES</td>\n",
       "      <td>RED MANGO</td>\n",
       "      <td>2125004.0</td>\n",
       "      <td>Restaurant</td>\n",
       "      <td>Risk 2 (Medium)</td>\n",
       "      <td>10 S DEARBORN ST FL</td>\n",
       "      <td>CHICAGO</td>\n",
       "      <td>IL</td>\n",
       "      <td>60603.0</td>\n",
       "      <td>2017-08-14</td>\n",
       "      <td>Canvass</td>\n",
       "      <td>34. FLOORS: CONSTRUCTED PER CODE, CLEANED, GOO...</td>\n",
       "      <td>41.881807</td>\n",
       "      <td>-87.629543</td>\n",
       "      <td>(-87.62954311539407, 41.88180696006542)</td>\n",
       "      <td>0</td>\n",
       "    </tr>\n",
       "  </tbody>\n",
       "</table>\n",
       "</div>"
      ],
      "text/plain": [
       "   Inspection ID              DBA Name          AKA Name  License #  \\\n",
       "0        2050629  MY SWEET STATION INC  MY SWEET STATION  2327223.0   \n",
       "1        2078428              OUTTAKES         RED MANGO  2125004.0   \n",
       "\n",
       "  Facility Type             Risk               Address     City State  \\\n",
       "0    Restaurant    Risk 1 (High)   2511 N LINCOLN AVE   CHICAGO    IL   \n",
       "1    Restaurant  Risk 2 (Medium)  10 S DEARBORN ST FL   CHICAGO    IL   \n",
       "\n",
       "       Zip Inspection Date Inspection Type  \\\n",
       "0  60614.0      2017-05-18         Canvass   \n",
       "1  60603.0      2017-08-14         Canvass   \n",
       "\n",
       "                                          Violations   Latitude  Longitude  \\\n",
       "0                                                NaN  41.927577 -87.651528   \n",
       "1  34. FLOORS: CONSTRUCTED PER CODE, CLEANED, GOO...  41.881807 -87.629543   \n",
       "\n",
       "                                  Location  Inspection Fail  \n",
       "0  (-87.65152817242594, 41.92757677830966)                0  \n",
       "1  (-87.62954311539407, 41.88180696006542)                0  "
      ]
     },
     "execution_count": 436,
     "metadata": {},
     "output_type": "execute_result"
    }
   ],
   "source": [
    "# 데이터 확인\n",
    "train.head(2)"
   ]
  },
  {
   "cell_type": "code",
   "execution_count": 437,
   "metadata": {},
   "outputs": [
    {
     "name": "stdout",
     "output_type": "stream",
     "text": [
      "<class 'pandas.core.frame.DataFrame'>\n",
      "RangeIndex: 60000 entries, 0 to 59999\n",
      "Data columns (total 17 columns):\n",
      "Inspection ID      60000 non-null int64\n",
      "DBA Name           60000 non-null object\n",
      "AKA Name           59283 non-null object\n",
      "License #          59996 non-null float64\n",
      "Facility Type      58573 non-null object\n",
      "Risk               59976 non-null object\n",
      "Address            60000 non-null object\n",
      "City               59955 non-null object\n",
      "State              59985 non-null object\n",
      "Zip                59987 non-null float64\n",
      "Inspection Date    60000 non-null object\n",
      "Inspection Type    60000 non-null object\n",
      "Violations         44130 non-null object\n",
      "Latitude           59822 non-null float64\n",
      "Longitude          59822 non-null float64\n",
      "Location           59822 non-null object\n",
      "Inspection Fail    60000 non-null int64\n",
      "dtypes: float64(4), int64(2), object(11)\n",
      "memory usage: 7.8+ MB\n"
     ]
    }
   ],
   "source": [
    "# 데이터 확인\n",
    "train.info()"
   ]
  },
  {
   "cell_type": "markdown",
   "metadata": {},
   "source": [
    "### Inspection ID : 중복 확인\n",
    "결과: Unique한 값입니다. 이 feature는 컬럼을 단순히 분리하기 위한 목적이므로, 모델에 필요하지 않습니다."
   ]
  },
  {
   "cell_type": "code",
   "execution_count": 438,
   "metadata": {},
   "outputs": [
    {
     "name": "stdout",
     "output_type": "stream",
     "text": [
      "60000 \n",
      "\n",
      "2232318    1\n",
      "60552      1\n",
      "2050177    1\n",
      "2185071    1\n",
      "2387096    1\n",
      "          ..\n",
      "1956072    1\n",
      "1353214    1\n",
      "2145789    1\n",
      "2268665    1\n",
      "1966080    1\n",
      "Name: Inspection ID, Length: 60000, dtype: int64\n"
     ]
    }
   ],
   "source": [
    "print(train['Inspection ID'].nunique(),'\\n')\n",
    "print(train['Inspection ID'].value_counts())"
   ]
  },
  {
   "cell_type": "markdown",
   "metadata": {},
   "source": [
    "### DBA Name : 20175 개의 Category 존재하며 분포가 불규칙합니다."
   ]
  },
  {
   "cell_type": "code",
   "execution_count": 439,
   "metadata": {},
   "outputs": [
    {
     "name": "stdout",
     "output_type": "stream",
     "text": [
      "20175\n",
      "SUBWAY                               830\n",
      "DUNKIN DONUTS                        456\n",
      "MCDONALD'S                           162\n",
      "7-ELEVEN                             127\n",
      "CHIPOTLE MEXICAN GRILL                99\n",
      "                                    ... \n",
      "BERNIE'S RESTAURANT                    1\n",
      "PASSION HOUSE COFFEE ROASTERS INC      1\n",
      "GRAND SHELL                            1\n",
      "H & D GROCERY                          1\n",
      "JOE'S IMPORTS                          1\n",
      "Name: DBA Name, Length: 20175, dtype: int64\n"
     ]
    }
   ],
   "source": [
    "print(train['DBA Name'].nunique())\n",
    "print(train['DBA Name'].value_counts())"
   ]
  },
  {
   "cell_type": "code",
   "execution_count": 440,
   "metadata": {},
   "outputs": [
    {
     "data": {
      "text/plain": [
       "Text(0.5, 1.0, 'DBA Name Counts - Unbalanced')"
      ]
     },
     "execution_count": 440,
     "metadata": {},
     "output_type": "execute_result"
    },
    {
     "data": {
      "image/png": "[encoded data removed]",
      "text/plain": [
       "<Figure size 2160x360 with 1 Axes>"
      ]
     },
     "metadata": {
      "needs_background": "light"
     },
     "output_type": "display_data"
    }
   ],
   "source": [
    "plot_df = train.groupby('DBA Name').count()['Inspection ID'].sort_values(ascending=False)\n",
    "\n",
    "plt.figure(figsize=(30,5))\n",
    "plot = sns.countplot(plot_df)\n",
    "plt.title('DBA Name Counts - Unbalanced',fontsize=35)"
   ]
  },
  {
   "cell_type": "markdown",
   "metadata": {},
   "source": [
    "### AKA Name : 19209 개의 Category 존재하며, 분포가 불규칙합니다.\n",
    "결과: DBA Name과 상관계수가 0.9로 높아, 각 Feature들은 서로를 잘 설명합니다. 둘 중 한 개의 Feature는 삭제해도 무방합니다."
   ]
  },
  {
   "cell_type": "code",
   "execution_count": 441,
   "metadata": {},
   "outputs": [
    {
     "name": "stdout",
     "output_type": "stream",
     "text": [
      "19209\n",
      "SUBWAY                1014\n",
      "DUNKIN DONUTS          459\n",
      "7-ELEVEN               238\n",
      "MCDONALD'S             225\n",
      "BURGER KING            130\n",
      "                      ... \n",
      "CHARLY'S BURGERS         1\n",
      "Tuscany Cafe             1\n",
      "JW MARRIOT CHICAGO       1\n",
      "ZEN & NOW                1\n",
      "JOE'S IMPORTS            1\n",
      "Name: AKA Name, Length: 19209, dtype: int64\n"
     ]
    }
   ],
   "source": [
    "print(train['AKA Name'].nunique())\n",
    "print(train['AKA Name'].value_counts())"
   ]
  },
  {
   "cell_type": "code",
   "execution_count": 442,
   "metadata": {},
   "outputs": [
    {
     "data": {
      "text/plain": [
       "Text(0.5, 1.0, 'AKA Name Counts - Unbalanced')"
      ]
     },
     "execution_count": 442,
     "metadata": {},
     "output_type": "execute_result"
    },
    {
     "data": {
      "image/png": "[encoded data removed]",
      "text/plain": [
       "<Figure size 2160x360 with 1 Axes>"
      ]
     },
     "metadata": {
      "needs_background": "light"
     },
     "output_type": "display_data"
    }
   ],
   "source": [
    "plot_df = train.groupby('AKA Name').count()['Inspection ID'].sort_values(ascending=False)\n",
    "\n",
    "plt.figure(figsize=(30,5))\n",
    "plot = sns.countplot(plot_df)\n",
    "plt.title('AKA Name Counts - Unbalanced',fontsize=35)"
   ]
  },
  {
   "cell_type": "markdown",
   "metadata": {},
   "source": [
    "#### AKA Name의 분포도와, DBA Name의 분포도가 비슷해보입니다. 실제로 이들이 연관성이 있는지 확인해보겠습니다."
   ]
  },
  {
   "cell_type": "code",
   "execution_count": 443,
   "metadata": {},
   "outputs": [
    {
     "data": {
      "text/html": [
       "<div>\n",
       "<style scoped>\n",
       "    .dataframe tbody tr th:only-of-type {\n",
       "        vertical-align: middle;\n",
       "    }\n",
       "\n",
       "    .dataframe tbody tr th {\n",
       "        vertical-align: top;\n",
       "    }\n",
       "\n",
       "    .dataframe thead th {\n",
       "        text-align: right;\n",
       "    }\n",
       "</style>\n",
       "<table border=\"1\" class=\"dataframe\">\n",
       "  <thead>\n",
       "    <tr style=\"text-align: right;\">\n",
       "      <th></th>\n",
       "      <th></th>\n",
       "      <th>0</th>\n",
       "    </tr>\n",
       "    <tr>\n",
       "      <th>AKA Name</th>\n",
       "      <th>DBA Name</th>\n",
       "      <th></th>\n",
       "    </tr>\n",
       "  </thead>\n",
       "  <tbody>\n",
       "    <tr>\n",
       "      <td>SUBWAY</td>\n",
       "      <td>SUBWAY</td>\n",
       "      <td>829</td>\n",
       "    </tr>\n",
       "    <tr>\n",
       "      <td>DUNKIN DONUTS</td>\n",
       "      <td>DUNKIN DONUTS</td>\n",
       "      <td>411</td>\n",
       "    </tr>\n",
       "    <tr>\n",
       "      <td>MCDONALD'S</td>\n",
       "      <td>MCDONALD'S</td>\n",
       "      <td>151</td>\n",
       "    </tr>\n",
       "    <tr>\n",
       "      <td>7-ELEVEN</td>\n",
       "      <td>7-ELEVEN</td>\n",
       "      <td>126</td>\n",
       "    </tr>\n",
       "    <tr>\n",
       "      <td>CHIPOTLE MEXICAN GRILL</td>\n",
       "      <td>CHIPOTLE MEXICAN GRILL</td>\n",
       "      <td>99</td>\n",
       "    </tr>\n",
       "    <tr>\n",
       "      <td>...</td>\n",
       "      <td>...</td>\n",
       "      <td>...</td>\n",
       "    </tr>\n",
       "    <tr>\n",
       "      <td>PARK PLAZA RETIREMENT CENTER</td>\n",
       "      <td>PARK PLAZA RETIREMENT CENTER</td>\n",
       "      <td>1</td>\n",
       "    </tr>\n",
       "    <tr>\n",
       "      <td>PARK PACKING CO</td>\n",
       "      <td>PARK PACKING CO</td>\n",
       "      <td>1</td>\n",
       "    </tr>\n",
       "    <tr>\n",
       "      <td>PARK PACKING</td>\n",
       "      <td>PARK PACKING OF CHICAGO, INC</td>\n",
       "      <td>1</td>\n",
       "    </tr>\n",
       "    <tr>\n",
       "      <td>PARK MANOR CONGRESSIONAL CHURCH</td>\n",
       "      <td>PARK MANOR CONGRESSIONAL CHURCH</td>\n",
       "      <td>1</td>\n",
       "    </tr>\n",
       "    <tr>\n",
       "      <td>vitino pizzeria</td>\n",
       "      <td>vitino pizzeria</td>\n",
       "      <td>1</td>\n",
       "    </tr>\n",
       "  </tbody>\n",
       "</table>\n",
       "<p>20596 rows × 1 columns</p>\n",
       "</div>"
      ],
      "text/plain": [
       "                                                                   0\n",
       "AKA Name                        DBA Name                            \n",
       "SUBWAY                          SUBWAY                           829\n",
       "DUNKIN DONUTS                   DUNKIN DONUTS                    411\n",
       "MCDONALD'S                      MCDONALD'S                       151\n",
       "7-ELEVEN                        7-ELEVEN                         126\n",
       "CHIPOTLE MEXICAN GRILL          CHIPOTLE MEXICAN GRILL            99\n",
       "...                                                              ...\n",
       "PARK PLAZA RETIREMENT CENTER    PARK PLAZA RETIREMENT CENTER       1\n",
       "PARK PACKING CO                 PARK PACKING CO                    1\n",
       "PARK PACKING                    PARK PACKING OF CHICAGO, INC       1\n",
       "PARK MANOR CONGRESSIONAL CHURCH PARK MANOR CONGRESSIONAL CHURCH    1\n",
       "vitino pizzeria                 vitino pizzeria                    1\n",
       "\n",
       "[20596 rows x 1 columns]"
      ]
     },
     "execution_count": 443,
     "metadata": {},
     "output_type": "execute_result"
    }
   ],
   "source": [
    "# Groupby 그래프 결과, Feature 값이 매우 비슷하게 grouping 된 것을 알 수 있습니다.\n",
    "pd.DataFrame(train.groupby(['AKA Name','DBA Name']).size().sort_values(ascending=False))"
   ]
  },
  {
   "cell_type": "code",
   "execution_count": 444,
   "metadata": {},
   "outputs": [],
   "source": [
    "# 라벨인코딩 후 상관계수값을 보며, 이들이 실질적으로 어느정도 관계가 있는지 분석해보겠습니다.\n",
    "train['AKA Name']=train['AKA Name'].astype('str')\n",
    "\n",
    "lb = LabelEncoder()\n",
    "train['AKA Name_Label'] = lb.fit_transform(train['AKA Name'])\n",
    "train['DBA Name_Label'] = lb.fit_transform(train['DBA Name'])"
   ]
  },
  {
   "cell_type": "code",
   "execution_count": 445,
   "metadata": {},
   "outputs": [
    {
     "name": "stdout",
     "output_type": "stream",
     "text": [
      "가장 상관계수가 높은 Feature:  DBA Name_Label 0.901\n"
     ]
    }
   ],
   "source": [
    "print('가장 상관계수가 높은 Feature: ', \n",
    "      train.corr()['AKA Name_Label'].sort_values(ascending=False).index[1],\n",
    "      train.corr()['AKA Name_Label'].sort_values(ascending=False)[1].round(3))"
   ]
  },
  {
   "cell_type": "markdown",
   "metadata": {},
   "source": [
    "### License # : Null 값이 존재하며, 25123 개의 Unique 값이 있습니다."
   ]
  },
  {
   "cell_type": "code",
   "execution_count": 446,
   "metadata": {},
   "outputs": [
    {
     "name": "stdout",
     "output_type": "stream",
     "text": [
      "25123\n",
      "SUBWAY                1014\n",
      "nan                    717\n",
      "DUNKIN DONUTS          459\n",
      "7-ELEVEN               238\n",
      "MCDONALD'S             225\n",
      "                      ... \n",
      "Tuscany Cafe             1\n",
      "JW MARRIOT CHICAGO       1\n",
      "ZEN & NOW                1\n",
      "DON BETO'S GRILL         1\n",
      "JOE'S IMPORTS            1\n",
      "Name: AKA Name, Length: 19210, dtype: int64\n"
     ]
    }
   ],
   "source": [
    "# 분포도가 상위 Features와 비슷한 양상을 띱니다.\n",
    "print(train['License #'].nunique())\n",
    "print(train['AKA Name'].value_counts())"
   ]
  },
  {
   "cell_type": "code",
   "execution_count": 447,
   "metadata": {},
   "outputs": [
    {
     "data": {
      "text/html": [
       "<div>\n",
       "<style scoped>\n",
       "    .dataframe tbody tr th:only-of-type {\n",
       "        vertical-align: middle;\n",
       "    }\n",
       "\n",
       "    .dataframe tbody tr th {\n",
       "        vertical-align: top;\n",
       "    }\n",
       "\n",
       "    .dataframe thead th {\n",
       "        text-align: right;\n",
       "    }\n",
       "</style>\n",
       "<table border=\"1\" class=\"dataframe\">\n",
       "  <thead>\n",
       "    <tr style=\"text-align: right;\">\n",
       "      <th></th>\n",
       "      <th>Inspection ID</th>\n",
       "      <th>License #</th>\n",
       "      <th>Zip</th>\n",
       "      <th>Latitude</th>\n",
       "      <th>Longitude</th>\n",
       "      <th>Inspection Fail</th>\n",
       "      <th>AKA Name_Label</th>\n",
       "      <th>DBA Name_Label</th>\n",
       "      <th>License #_Label</th>\n",
       "    </tr>\n",
       "  </thead>\n",
       "  <tbody>\n",
       "    <tr>\n",
       "      <td>Inspection ID</td>\n",
       "      <td>1.000000</td>\n",
       "      <td>0.246442</td>\n",
       "      <td>-0.004473</td>\n",
       "      <td>0.042388</td>\n",
       "      <td>0.000846</td>\n",
       "      <td>-0.038647</td>\n",
       "      <td>-0.012544</td>\n",
       "      <td>-0.005656</td>\n",
       "      <td>0.390183</td>\n",
       "    </tr>\n",
       "    <tr>\n",
       "      <td>License #</td>\n",
       "      <td>0.246442</td>\n",
       "      <td>1.000000</td>\n",
       "      <td>-0.012310</td>\n",
       "      <td>-0.010526</td>\n",
       "      <td>0.035294</td>\n",
       "      <td>0.027671</td>\n",
       "      <td>-0.010555</td>\n",
       "      <td>-0.026697</td>\n",
       "      <td>0.897209</td>\n",
       "    </tr>\n",
       "    <tr>\n",
       "      <td>Zip</td>\n",
       "      <td>-0.004473</td>\n",
       "      <td>-0.012310</td>\n",
       "      <td>1.000000</td>\n",
       "      <td>0.179196</td>\n",
       "      <td>-0.379344</td>\n",
       "      <td>-0.004357</td>\n",
       "      <td>-0.000133</td>\n",
       "      <td>-0.002314</td>\n",
       "      <td>-0.015861</td>\n",
       "    </tr>\n",
       "    <tr>\n",
       "      <td>Latitude</td>\n",
       "      <td>0.042388</td>\n",
       "      <td>-0.010526</td>\n",
       "      <td>0.179196</td>\n",
       "      <td>1.000000</td>\n",
       "      <td>-0.423193</td>\n",
       "      <td>-0.021807</td>\n",
       "      <td>-0.005530</td>\n",
       "      <td>-0.000291</td>\n",
       "      <td>-0.010423</td>\n",
       "    </tr>\n",
       "    <tr>\n",
       "      <td>Longitude</td>\n",
       "      <td>0.000846</td>\n",
       "      <td>0.035294</td>\n",
       "      <td>-0.379344</td>\n",
       "      <td>-0.423193</td>\n",
       "      <td>1.000000</td>\n",
       "      <td>0.012028</td>\n",
       "      <td>0.012894</td>\n",
       "      <td>0.016599</td>\n",
       "      <td>0.032223</td>\n",
       "    </tr>\n",
       "    <tr>\n",
       "      <td>Inspection Fail</td>\n",
       "      <td>-0.038647</td>\n",
       "      <td>0.027671</td>\n",
       "      <td>-0.004357</td>\n",
       "      <td>-0.021807</td>\n",
       "      <td>0.012028</td>\n",
       "      <td>1.000000</td>\n",
       "      <td>-0.003394</td>\n",
       "      <td>-0.009732</td>\n",
       "      <td>0.031080</td>\n",
       "    </tr>\n",
       "    <tr>\n",
       "      <td>AKA Name_Label</td>\n",
       "      <td>-0.012544</td>\n",
       "      <td>-0.010555</td>\n",
       "      <td>-0.000133</td>\n",
       "      <td>-0.005530</td>\n",
       "      <td>0.012894</td>\n",
       "      <td>-0.003394</td>\n",
       "      <td>1.000000</td>\n",
       "      <td>0.900889</td>\n",
       "      <td>-0.009573</td>\n",
       "    </tr>\n",
       "    <tr>\n",
       "      <td>DBA Name_Label</td>\n",
       "      <td>-0.005656</td>\n",
       "      <td>-0.026697</td>\n",
       "      <td>-0.002314</td>\n",
       "      <td>-0.000291</td>\n",
       "      <td>0.016599</td>\n",
       "      <td>-0.009732</td>\n",
       "      <td>0.900889</td>\n",
       "      <td>1.000000</td>\n",
       "      <td>-0.025879</td>\n",
       "    </tr>\n",
       "    <tr>\n",
       "      <td>License #_Label</td>\n",
       "      <td>0.390183</td>\n",
       "      <td>0.897209</td>\n",
       "      <td>-0.015861</td>\n",
       "      <td>-0.010423</td>\n",
       "      <td>0.032223</td>\n",
       "      <td>0.031080</td>\n",
       "      <td>-0.009573</td>\n",
       "      <td>-0.025879</td>\n",
       "      <td>1.000000</td>\n",
       "    </tr>\n",
       "  </tbody>\n",
       "</table>\n",
       "</div>"
      ],
      "text/plain": [
       "                 Inspection ID  License #       Zip  Latitude  Longitude  \\\n",
       "Inspection ID         1.000000   0.246442 -0.004473  0.042388   0.000846   \n",
       "License #             0.246442   1.000000 -0.012310 -0.010526   0.035294   \n",
       "Zip                  -0.004473  -0.012310  1.000000  0.179196  -0.379344   \n",
       "Latitude              0.042388  -0.010526  0.179196  1.000000  -0.423193   \n",
       "Longitude             0.000846   0.035294 -0.379344 -0.423193   1.000000   \n",
       "Inspection Fail      -0.038647   0.027671 -0.004357 -0.021807   0.012028   \n",
       "AKA Name_Label       -0.012544  -0.010555 -0.000133 -0.005530   0.012894   \n",
       "DBA Name_Label       -0.005656  -0.026697 -0.002314 -0.000291   0.016599   \n",
       "License #_Label       0.390183   0.897209 -0.015861 -0.010423   0.032223   \n",
       "\n",
       "                 Inspection Fail  AKA Name_Label  DBA Name_Label  \\\n",
       "Inspection ID          -0.038647       -0.012544       -0.005656   \n",
       "License #               0.027671       -0.010555       -0.026697   \n",
       "Zip                    -0.004357       -0.000133       -0.002314   \n",
       "Latitude               -0.021807       -0.005530       -0.000291   \n",
       "Longitude               0.012028        0.012894        0.016599   \n",
       "Inspection Fail         1.000000       -0.003394       -0.009732   \n",
       "AKA Name_Label         -0.003394        1.000000        0.900889   \n",
       "DBA Name_Label         -0.009732        0.900889        1.000000   \n",
       "License #_Label         0.031080       -0.009573       -0.025879   \n",
       "\n",
       "                 License #_Label  \n",
       "Inspection ID           0.390183  \n",
       "License #               0.897209  \n",
       "Zip                    -0.015861  \n",
       "Latitude               -0.010423  \n",
       "Longitude               0.032223  \n",
       "Inspection Fail         0.031080  \n",
       "AKA Name_Label         -0.009573  \n",
       "DBA Name_Label         -0.025879  \n",
       "License #_Label         1.000000  "
      ]
     },
     "execution_count": 447,
     "metadata": {},
     "output_type": "execute_result"
    }
   ],
   "source": [
    "# 따라서 상관관계를 분석한 결과, 약한 선형관계는 보이나 뚜렷한 선형관계를 보이지 않습니다.\n",
    "train['License #_Label'] = lb.fit_transform(train['License #'])\n",
    "train.corr()"
   ]
  },
  {
   "cell_type": "markdown",
   "metadata": {},
   "source": [
    "### Facility Type : 366개의 Category가 존재하며, 비율이 Unbalanced 합니다."
   ]
  },
  {
   "cell_type": "code",
   "execution_count": 448,
   "metadata": {},
   "outputs": [
    {
     "name": "stdout",
     "output_type": "stream",
     "text": [
      "366 \n",
      "\n",
      "Restaurant                      39922\n",
      "Grocery Store                    7863\n",
      "School                           3605\n",
      "Children's Services Facility      994\n",
      "Bakery                            841\n",
      "                                ...  \n",
      "CLOTHING STORE                      1\n",
      "TOBACCO STORE                       1\n",
      "ICE CREAM PARLOR                    1\n",
      "EVENT SPACE                         1\n",
      "day spa                             1\n",
      "Name: Facility Type, Length: 366, dtype: int64\n"
     ]
    },
    {
     "data": {
      "text/plain": [
       "Text(0.5, 1.0, 'Facility Type Counts - Unbalanced')"
      ]
     },
     "execution_count": 448,
     "metadata": {},
     "output_type": "execute_result"
    },
    {
     "data": {
      "image/png": "[encoded data removed]",
      "text/plain": [
       "<Figure size 2160x360 with 1 Axes>"
      ]
     },
     "metadata": {
      "needs_background": "light"
     },
     "output_type": "display_data"
    }
   ],
   "source": [
    "print(train['Facility Type'].nunique(),'\\n')\n",
    "print(train['Facility Type'].value_counts())\n",
    "\n",
    "plot_df = train.groupby('Facility Type').count()['Inspection ID'].sort_values(ascending=False)\n",
    "\n",
    "plt.figure(figsize=(30,5))\n",
    "plot = sns.countplot(plot_df)\n",
    "plt.title('Facility Type Counts - Unbalanced',fontsize=35)"
   ]
  },
  {
   "cell_type": "code",
   "execution_count": 449,
   "metadata": {},
   "outputs": [
    {
     "data": {
      "text/plain": [
       "Facility Type_Label    1.000000\n",
       "Latitude               0.087371\n",
       "DBA Name_Label         0.049815\n",
       "Name: Facility Type_Label, dtype: float64"
      ]
     },
     "execution_count": 449,
     "metadata": {},
     "output_type": "execute_result"
    }
   ],
   "source": [
    "# 상관분석 결과, 특별한 상관관계를 띠는 관계도 보이지 않습니다.\n",
    "train['Facility Type_Label'] = lb.fit_transform(train['Facility Type'].astype('str'))\n",
    "train.corr()['Facility Type_Label'].sort_values(ascending=False).head(3)"
   ]
  },
  {
   "cell_type": "markdown",
   "metadata": {},
   "source": [
    "### Risk : 상대적으로 적은 4개의 Category가 존재합니다."
   ]
  },
  {
   "cell_type": "code",
   "execution_count": 450,
   "metadata": {},
   "outputs": [
    {
     "name": "stdout",
     "output_type": "stream",
     "text": [
      "4 \n",
      "\n",
      "Risk 1 (High)      42839\n",
      "Risk 2 (Medium)    11757\n",
      "Risk 3 (Low)        5368\n",
      "All                   12\n",
      "Name: Risk, dtype: int64\n"
     ]
    }
   ],
   "source": [
    "print(train['Risk'].nunique(),'\\n')\n",
    "print(train['Risk'].value_counts())"
   ]
  },
  {
   "cell_type": "markdown",
   "metadata": {},
   "source": [
    "### Address : 15244의 개별 Category 존재하며 타 Feature간의 상관관계도 크지 않습니다.\n",
    "결과 : 지역의 범주를 넓혀, 대분류로 위치를 묶어봅니다. ( '대분류 주소' 라는 새로운 Feature를 추출해야 합니다.)"
   ]
  },
  {
   "cell_type": "code",
   "execution_count": 451,
   "metadata": {},
   "outputs": [
    {
     "name": "stdout",
     "output_type": "stream",
     "text": [
      "15244 \n",
      "\n",
      "Address_Label    1.000000\n",
      "Zip              0.039026\n",
      "Name: Address_Label, dtype: float64\n"
     ]
    }
   ],
   "source": [
    "# 15244개의 Category가 존재하며, 타 Features 에 대한 상관관계도 크지 않습니다.\n",
    "print(train['Address'].nunique(),'\\n')\n",
    "train['Address_Label'] = lb.fit_transform(train['Address'])\n",
    "print(train.corr()['Address_Label'].sort_values(ascending=False).head(2))"
   ]
  },
  {
   "cell_type": "code",
   "execution_count": 452,
   "metadata": {},
   "outputs": [
    {
     "data": {
      "text/plain": [
       "['2511 N LINCOLN AVE ',\n",
       " '10 S DEARBORN ST FL ',\n",
       " '225 N MICHIGAN AVE ',\n",
       " '1863 N CLYBOURN AVE ',\n",
       " '1700 S MICHIGAN AVE ',\n",
       " '2824 W ARMITAGE AVE ',\n",
       " '3223 W FRANKLIN BLVD ',\n",
       " '5115 S KEDZIE AVE ',\n",
       " '123 E 51ST ST ',\n",
       " '6700 N WHIPPLE ',\n",
       " '7117 N CLARK ST ',\n",
       " '1911 S MICHIGAN AVE ',\n",
       " '1508-1510 N WELLS ST ',\n",
       " '1415 W IRVING PARK RD ',\n",
       " '8307 S DR MARTIN LUTHER KING JR DR ',\n",
       " '4640-4642 N KEDZIE AVE ',\n",
       " '11600-11604 S MICHIGAN AVE ',\n",
       " '11601 W TOUHY AVE ',\n",
       " '66 E WACKER PL ',\n",
       " '2401-2403 N WESTERN AVE ',\n",
       " '7338 S STONY ISLAND AVE ',\n",
       " '2245 W JACKSON BLVD ',\n",
       " '2855 N MILWAUKEE AVE ',\n",
       " '305-309 N CICERO AVE ',\n",
       " '1934 W 79TH ST ',\n",
       " '324 N Leavitt ',\n",
       " '4600 W BELMONT AVE ',\n",
       " '1026 E 67TH ST ',\n",
       " '6349 N CALIFORNIA AVE ',\n",
       " '5804 S WESTERN AVE ',\n",
       " '10100 S HALSTED ST ',\n",
       " '333 S WABASH AVE ',\n",
       " '5547 N KENMORE AVE ',\n",
       " '305-307 W LAKE ST ',\n",
       " '4243 W NORTH AVE ',\n",
       " '2601 W LELAND AVE ',\n",
       " '4934 S Wabash (45E) (C/Shabazz) ',\n",
       " '1206 - 1208 W WEBSTER AVE ',\n",
       " '2343 W TAYLOR ST ',\n",
       " '236 N PULASKI RD ',\n",
       " '1509 W FOSTER AVE ',\n",
       " '235 W VAN BUREN ST ',\n",
       " '3522 E 100TH ST ',\n",
       " '4631 N WESTERN AVE ',\n",
       " '2295 N MILWAUKEE AVE ',\n",
       " '6317 W GRAND AVE ',\n",
       " '232 W CERMAK RD ',\n",
       " '33 W ONTARIO ST ',\n",
       " '1517 E 87TH ST ',\n",
       " '108 W CHICAGO AVE ',\n",
       " '222 S RIVERSIDE PLZ ',\n",
       " '345 E OHIO ST ',\n",
       " '50 E CONGRESS PKWY ',\n",
       " '2700-2712 W 51ST ST ',\n",
       " '7400 S HALSTED ST ',\n",
       " '2640 W CHICAGO AVE ',\n",
       " '5101 S ASHLAND AVE ',\n",
       " '401-419 W 95TH ST ',\n",
       " '3614 W DIVISION ST ',\n",
       " '5700 S CICERO AVE ',\n",
       " '4014 W CHICAGO AVE ',\n",
       " '131 N CLINTON ST BLDG BOOTH26',\n",
       " '10701 S HALE AVE ',\n",
       " '3463 N CLARK ST ',\n",
       " '131 N CLINTON ST ',\n",
       " '5350 W 38TH ST ',\n",
       " '1414 N MILWAUKEE AVE ',\n",
       " '1007 N RUSH ST ',\n",
       " '2823 N LINCOLN AVE ',\n",
       " '808 W JACKSON BLVD ',\n",
       " '1390 E HYDE PARK BLVD ',\n",
       " '3156 N AUSTIN AVE ',\n",
       " '3851 S MICHIGAN AVE ',\n",
       " '2637 N CENTRAL AVE ',\n",
       " '3350 W ROOSEVELT RD ',\n",
       " '3250 W Monroe St (100S) ',\n",
       " '5253 N CLARK ST ',\n",
       " '300 E 35TH ST ',\n",
       " '2556 S ARCHER AVE ',\n",
       " '3948 W CERMAK RD ',\n",
       " '2852 N CLARK ST ',\n",
       " '6650 S Ellis (1000E) AVE ',\n",
       " '2701 W FOSTER AVE ',\n",
       " '1420 N WOOD ',\n",
       " '3810 W 63RD ST ',\n",
       " '3337-3341 W CHICAGO AVE ',\n",
       " '526 E 43RD ST ',\n",
       " '1453 W TAYLOR ST ',\n",
       " '5337 W BELMONT AVE ',\n",
       " '1648 W 115TH ST ',\n",
       " '3345 LINCOLN AVE ',\n",
       " '3222 W DIVISION ST ',\n",
       " '4228 W 26TH ST ',\n",
       " '2801 W HOWARD ST ',\n",
       " '5542 W NORTH AVE ',\n",
       " '4552 N KEDZIE AVE ',\n",
       " '2 W 103RD ST ',\n",
       " '8300 S KEDZIE AVE ',\n",
       " '4422 W MADISON ST ',\n",
       " '1120 N STATE ST ',\n",
       " '2131 W MONROE ST ',\n",
       " '1730 W FULLERTON AVE ',\n",
       " '5959 W DIVERSEY AVE ',\n",
       " '710 N LAKE SHORE DR ',\n",
       " '7001 N CLARK ST ',\n",
       " '6247 N MILWAUKEE AVE ',\n",
       " '6220 S WESTERN AVE ',\n",
       " '2009 W Schiller ST ',\n",
       " '4454 N MILWAUKEE AVE ',\n",
       " '2101 E 71st ST ',\n",
       " '316 W 103RD ST ',\n",
       " '4311-4315 N KEDZIE AVE ',\n",
       " '4881 N BROADWAY ',\n",
       " '1000 S WESTERN AVE ',\n",
       " '4171 S ARCHER AVE ',\n",
       " '901 W 87TH ST ',\n",
       " '7616 W BELMONT AVE ',\n",
       " '4608 W BELMONT AVE ',\n",
       " '100 N RIVERSIDE PLZ ',\n",
       " '857 E 79TH ST ',\n",
       " '4300 N LINCOLN AVE ',\n",
       " '912 N WESTERN AVE ',\n",
       " '8700 S YATES BLVD ',\n",
       " '3340 N KEDZIE AVE ',\n",
       " '2045 W NORTH AVE ',\n",
       " '222 W MERCHANDISE MART PLZ ',\n",
       " '8440 S STONY ISLAND AVE ',\n",
       " '3952 W MONROE ST ',\n",
       " '1712 W 119TH ST ',\n",
       " '1260 N DEARBORN ST ',\n",
       " '4247 W ARMITAGE AVE ',\n",
       " '2130 W CERMAK RD ',\n",
       " '2418 N ASHLAND AVE ',\n",
       " '7414 N Wolcott AVE ',\n",
       " '2122 E 71ST ST ',\n",
       " '7005 N CLARK ST ',\n",
       " '5530 W HOMER ST ',\n",
       " '1379 E 53RD ST ',\n",
       " '1401-1409 E 79TH ST ',\n",
       " '1424 W TAYLOR ST ',\n",
       " '7618 N SHERIDAN RD ',\n",
       " '1400 S JEFFERSON ST ',\n",
       " '3776 N CLARK ST ',\n",
       " '5522 N MILWAUKEE AVE ',\n",
       " '1352 W 99TH ST ',\n",
       " '6452 W 63RD ST ',\n",
       " '3129 W ARMITAGE AVE ',\n",
       " '1945-1947 W HOWARD ST ',\n",
       " '4945 N BROADWAY ',\n",
       " '1640 S BLUE ISLAND AVE ',\n",
       " '3826 W MONTROSE AVE ',\n",
       " '3925 N LINCOLN AVE ',\n",
       " '7603-7643 S SOUTH CHICAGO AVE ',\n",
       " '3658 W IRVING PARK RD ',\n",
       " '1139 W BRYN MAWR AVE ',\n",
       " '4888 S ARCHER ',\n",
       " '6332 N NORTHWEST HWY ',\n",
       " '120 S RIVERSIDE PLZ ',\n",
       " '111 W MONROE ST ',\n",
       " '432 E 134TH ST ',\n",
       " '4512 S DAMEN AVE ',\n",
       " '446-448 N STATE ST ',\n",
       " '330 N WABASH AVE ',\n",
       " '1757 W CHICAGO AVE ',\n",
       " '1763 W HOWARD ST ',\n",
       " '11058 S WENTWORTH AVE ',\n",
       " '4722 N KEDZIE AVE ',\n",
       " '1841 W HOWARD ST ',\n",
       " '200 S HALSTED ST ',\n",
       " '3049 N CICERO AVE ',\n",
       " '3106 N HARLEM AVE ',\n",
       " '2800 W ROOSEVELT RD ',\n",
       " '1228 E 53RD ST ',\n",
       " '5215 W CHICAGO AVE BLDG E2',\n",
       " '2336 S WABASH AVE ',\n",
       " '1114-1118 W ARMITAGE AVE ',\n",
       " '4048 W CHICAGO AVE ',\n",
       " '3001 S AVERS AVE ',\n",
       " '4801 S WOLCOTT AVE ',\n",
       " '2950 W BELMONT AVE ',\n",
       " '60 W ONTARIO ST ',\n",
       " '7550 N HARLEM AVE ',\n",
       " '1704 N DAMEN AVE ',\n",
       " '1820 W 18TH ST ',\n",
       " '100 N LA SALLE ST ',\n",
       " '1556 E 56th St (5600S) ',\n",
       " '68 W HUBBARD ST ',\n",
       " '4100 W NORTH AVE ',\n",
       " '1265 N MILWAUKEE AVE ',\n",
       " '6950 S Sangamon (932W) ',\n",
       " '3516 N CLARK ST ',\n",
       " '543 W DIVERSEY AVE ',\n",
       " '3555 W ADDISON AVE ',\n",
       " '8100-8108 S ASHLAND AVE ',\n",
       " '1828-1830 W MONTROSE AVE ',\n",
       " '5204 N CLARK ST ',\n",
       " '21 W 119TH ST ',\n",
       " '5151 S PULASKI RD ',\n",
       " '7520 S EXCHANGE AVE ',\n",
       " '3720 N LINCOLN AVE ',\n",
       " '6040 S ARCHER AVE ',\n",
       " '4236 W NORTH AVE ',\n",
       " '1531 N DAMEN AVE ',\n",
       " '5250-5258 W FULLERTON AVE ',\n",
       " '1459 E 64TH ST ',\n",
       " '2070 N CLYBOURN AVE ',\n",
       " '1206 E 53RD ST ',\n",
       " '6249 N MCCORMICK RD ',\n",
       " '5714 W FULLERTON AVE ',\n",
       " '2817 N CLARK ST ',\n",
       " '8716 S Wallace (600W) ',\n",
       " '638 W 54th Place (5432S) ',\n",
       " '3734-3738 W BELMONT AVE ',\n",
       " '565 W JACKSON BLVD ',\n",
       " '5255-5259 N CLARK ST ',\n",
       " '5922 W LAWRENCE AVE ',\n",
       " '8802 S STONY ISLAND AVE ',\n",
       " '5108 W DIVISION ST ',\n",
       " '2300 S WENTWORTH AVE ',\n",
       " '513 1/2 E 47TH ST ',\n",
       " '5708 W FULLERTON AVE ',\n",
       " '7534 W ADDISON ST ',\n",
       " '180 W WASHINGTON ST ',\n",
       " '3241 W PETERSON AVE ',\n",
       " '6240 N CALIFORNIA AVE ',\n",
       " '1500 W JARVIS AVE ',\n",
       " '1700 W Van Buren ST ',\n",
       " '3855 N ELSTON AVE ',\n",
       " '3222 W BRYN MAWR AVE ',\n",
       " '3905 N LINCOLN AVE ',\n",
       " '1738 W MARQUETTE RD ',\n",
       " '1923 S BLUE ISLAND AVE ',\n",
       " '55 W MONROE ST ',\n",
       " '4320 W NORTH AVE ',\n",
       " '729-743 N CLARK ST ',\n",
       " '1654 W 119th ST ',\n",
       " '7100 S SOUTH CHICAGO AVE ',\n",
       " '4603 S ASHLAND AVE ',\n",
       " '2334 S WENTWORTH AVE ',\n",
       " '2532 W 51ST ST ',\n",
       " '6659 S DAMEN AVE ',\n",
       " '19 N WELLS ST ',\n",
       " '3020-3022 S HALSTED ST ',\n",
       " '3500 S HALSTED ST ',\n",
       " '4240B W NORTH AVE ',\n",
       " '175 W JACKSON BLVD ',\n",
       " '1321 W LAKE ST ',\n",
       " '1845 N OAKLEY AVE ',\n",
       " '5840 W ROOSEVELT RD ',\n",
       " '4872 N MILWAUKEE AVE ',\n",
       " '1035 N ASHLAND AVE ',\n",
       " '1 W WASHINGTON ST ',\n",
       " '6540 S PULASKI RD ',\n",
       " '4159 N WESTERN AVE ',\n",
       " '8554 S COTTAGE GROVE AVE ',\n",
       " '1924 W DIVISION ST ',\n",
       " '3202 N Broadway ',\n",
       " '7300 N WESTERN AVE ',\n",
       " '2300 N LINCOLN PARK WEST ',\n",
       " '10 S CLINTON ST ',\n",
       " '8933 S COMMERCIAL AVE ',\n",
       " '506 W HARRISON ST ',\n",
       " '3611 E 106TH ST ',\n",
       " '2101 W Touhy AVE ',\n",
       " '1151 S WOOD ST ',\n",
       " '4756-4760 N LINCOLN AVE ',\n",
       " '1013 1/2 E 53RD ST ',\n",
       " '233 S WACKER DR ',\n",
       " '2306 W Maypole Ave. (134S) ',\n",
       " '3342 W LAWRENCE AVE ',\n",
       " '108 W GERMANIA PL ',\n",
       " '9 W ERIE ST ',\n",
       " '1320 W FULLERTON AVE ',\n",
       " '3256-3258 N SHEFFIELD AVE ',\n",
       " '3107 W 71ST ST ',\n",
       " '6430 W IRVING PARK RD ',\n",
       " '3333 W 110TH ST ',\n",
       " '6322 N CENTRAL AVE ',\n",
       " '3958 W MONROE ST ',\n",
       " '6421 S DR MARTIN LUTHER KING JR DR ',\n",
       " '1400 S KOLIN AVE ',\n",
       " '2036 W ROSCOE ST ',\n",
       " '1450 E 57TH ST ',\n",
       " '5829 S ARCHER AVE ',\n",
       " '431 N Troy (3132W) ',\n",
       " '5333 S KEDZIE AVE ',\n",
       " '1642 W CHICAGO AVE ',\n",
       " '6835 S PULASKI RD ',\n",
       " '311 S WACKER DR ',\n",
       " '5235 W Belden AVE ',\n",
       " '5050 S CICERO AVE ',\n",
       " '3715-3717 N HALSTED ST ',\n",
       " '10325 S TORRENCE AVE ',\n",
       " '3348 W LAWRENCE AVE ',\n",
       " '3828 W TAYLOR ST ',\n",
       " '3900 W PETERSON ',\n",
       " '6350 N CAMPBELL AVE ',\n",
       " '1528 N WELLS ST ',\n",
       " '1522 W FILLMORE ',\n",
       " '7419 W IRVING PARK RD ',\n",
       " '239 GOLF MILL CENTER STE 322',\n",
       " '3175 N BROADWAY ',\n",
       " '2554 E 79TH ST ',\n",
       " '5304 W Devon AVE ',\n",
       " '2414 S OAKLEY AVE ',\n",
       " '4729 N CENTRAL AVE ',\n",
       " '3239 W LAWRENCE AVE ',\n",
       " '5300 W CHICAGO AVE ',\n",
       " '1226 E 53rd ST ',\n",
       " '1601 E 53RD ST ',\n",
       " '13100 S Doty (1030E) ',\n",
       " '8207 S COTTAGE GROVE ',\n",
       " '1701 W LAWRENCE AVE ',\n",
       " '5240 N PULASKI RD ',\n",
       " '1500 W BELMONT ',\n",
       " '2908 W LAKE ST ',\n",
       " '5940 W NORTH AVE ',\n",
       " '1653 W 43RD ST ',\n",
       " '3532 W MONTROSE AVE ',\n",
       " '1836 S BLUE ISLAND AVE ',\n",
       " '23 W JACKSON BLVD ',\n",
       " '3415 E 106TH ST ',\n",
       " '3106 N CENTRAL AVE ',\n",
       " '1832 N CLYBOURN AVE ',\n",
       " '754-756 W WELLINGTON ',\n",
       " '1324 N MILWAUKEE AVE ',\n",
       " '1563 N WELLS ST ',\n",
       " '560 W VAN BUREN ST ',\n",
       " '6067 N LINCOLN AVE ',\n",
       " '1140 W 66TH ST ',\n",
       " '5631 S Kimbark (1300E) ',\n",
       " '328 E 75TH ST ',\n",
       " '1600 W Lake ST ',\n",
       " '2624 N LINCOLN AVE ',\n",
       " '225 W RANDOLPH ST ',\n",
       " '4606-4610 S PULASKI RD ',\n",
       " '24 W Walton ST ',\n",
       " '2639-2641 W PETERSON AVE ',\n",
       " '101 W NORTH AVE ',\n",
       " '30 N MICHIGAN AVE ',\n",
       " '1207 W 63RD ST ',\n",
       " '2554-2556 W DIVERSEY AVE ',\n",
       " '2141 W 79TH ST ',\n",
       " '4753-4759 W WASHINGTON BLVD ',\n",
       " '12 E OHIO ST ',\n",
       " '6978 W NORTH AVE ',\n",
       " '2456 W 47TH ST ',\n",
       " '4968 N ELSTON AVE ',\n",
       " '2500 W PETERSON AVE ',\n",
       " '1509 E 53RD ST ',\n",
       " '10222 S WESTERN AVE ',\n",
       " '215-219 S WESTERN AVE ',\n",
       " '3610 N WESTERN AVE ',\n",
       " '335 W 31ST ST ',\n",
       " '1518 W Granville (6200N) ',\n",
       " '400 S FINANCIAL PL ',\n",
       " '6125 N MILWAUKEE AVE ',\n",
       " '1958 W PETERSON AVE ',\n",
       " '1350 W RANDOLPH ST ',\n",
       " '207 E 35TH ST ',\n",
       " '320 N DEARBORN ST ',\n",
       " '2816 W MARQUETTE RD ',\n",
       " '201 E DELAWARE PL ',\n",
       " '401 E ILLINOIS ST ',\n",
       " '6240 S DAMEN AVE ',\n",
       " '344 E 63RD ST ',\n",
       " '3250 W 87TH ST ',\n",
       " '1 E DELAWARE PL ',\n",
       " '55 E SUPERIOR ST ',\n",
       " '2320 N MILWAUKEE AVE ',\n",
       " '1909 W 103RD ST ',\n",
       " '4800-4808 S ARCHER AVE ',\n",
       " '2233 S DR MARTIN LUTHER KING JR DR ',\n",
       " '10319 S PULASKI RD ',\n",
       " '5016 N Pulaski RD ',\n",
       " '2922-2924 W IRVING PARK RD ',\n",
       " '832 E 63RD ST ',\n",
       " '1757 - 1759 W 18TH ST ',\n",
       " '7518 S COTTAGE GROVE AVE ',\n",
       " '5952 W ROOSEVELT RD ',\n",
       " '1934 W 47TH ST ',\n",
       " '3124 N BROADWAY ',\n",
       " '6189 N CANFIELD AVE ',\n",
       " '535 S STATE ST ',\n",
       " '2701 W LAWRENCE AVE ',\n",
       " '25 E OHIO ST ',\n",
       " '5101 S HALSTED ST ',\n",
       " '2320 E 93RD ST ',\n",
       " '9100 S COTTAGE GROVE AVE ',\n",
       " '1969 W OGDEN AVE ',\n",
       " '3145 S ASHLAND AVE ',\n",
       " '1725 W DIVISION ST ',\n",
       " '2943 W IRVING PARK RD ',\n",
       " '25 E WASHINGTON ST ',\n",
       " '2401 1/2 E 75TH ST ',\n",
       " '5622 W DIVISION ST ',\n",
       " '1150 W 96th St (9600S) ',\n",
       " '1929 S ARCHER AVE ',\n",
       " '1760 W CHICAGO AVE ',\n",
       " '4248 S DR MARTIN L KING JR DR BLDG ',\n",
       " '3224 W FOSTER AVE ',\n",
       " '3576 N MILWAUKEE AVE ',\n",
       " '2343 W CHICAGO AVE ',\n",
       " '2215 S KEDZIE AVE ',\n",
       " '939-941 N PULASKI RD ',\n",
       " '1005 W 71ST ST ',\n",
       " '221 W WASHINGTON ST ',\n",
       " '1759 W 79TH ST ',\n",
       " '6930 S SOUTH SHORE DR ',\n",
       " '1301 S WABASH AVE ',\n",
       " '1248 W 69TH ST ',\n",
       " '1440 W DEVON AVE ',\n",
       " '5044 W HARRISON ST ',\n",
       " '3374 N CLARK ST ',\n",
       " '1146 N MILWAUKEE AVE ',\n",
       " '4943 N DAMEN AVE ',\n",
       " '1744 W ESTES AVE ',\n",
       " '75 E LAKE ST ',\n",
       " '2002 S WENTWORTH AVE BLDG 103',\n",
       " '11123-11125 S HALSTED ST ',\n",
       " '33 E 59TH ST ',\n",
       " '2723 W DIVISION ST ',\n",
       " '58 E ONTARIO ST ',\n",
       " '1955 W ADDISON ST ',\n",
       " '31 E ROOSEVELT RD ',\n",
       " '768 N MILWAUKEE AVE ',\n",
       " '4801 N MILWAUKEE AVE ',\n",
       " '1211 W ROOSEVELT ',\n",
       " '2100 N HALSTED ST ',\n",
       " '5908 W FULLERTON AVE ',\n",
       " '2002 S WENTWORTH AVE ',\n",
       " '201 E HURON ST ',\n",
       " '3949 N PINE GROVE AVE ',\n",
       " '328 W 69th St (6900S) ',\n",
       " '2111 W ARMITAGE AVE ',\n",
       " '318 E 47TH ST ',\n",
       " '3333 W ARMITAGE AVE ',\n",
       " '3036 W ROOSEVELT RD ',\n",
       " '2679 N LINCOLN AVE ',\n",
       " '2502-2506 S KEDZIE AVE ',\n",
       " '1614 W GARFIELD BLVD ',\n",
       " '405 N WABASH AVE ',\n",
       " '3019 N BROADWAY ',\n",
       " '2109 W CHICAGO AVE ',\n",
       " '4457-4459 W DIVERSEY AVE ',\n",
       " '2464-2466 N LINCOLN AVE ',\n",
       " '1943-1945 W NORTH AVE ',\n",
       " '6656 W ARCHER AVE ',\n",
       " '3124 W 25TH ST ',\n",
       " '3702-3704 N BROADWAY ',\n",
       " '6125 N LINCOLN AVE ',\n",
       " '1140 W MADISON ',\n",
       " '418-420 N CLARK ST ',\n",
       " '4450 S KEDZIE AVE ',\n",
       " '4185 W IRVING PARK RD ',\n",
       " '1900 MAYWOOD DR ',\n",
       " '2601 W 59TH ST ',\n",
       " '1051 W ARGYLE ST ',\n",
       " '4207 W 26TH ST ',\n",
       " '4420  -04430 W MONTROSE AVE ',\n",
       " '333 W WACKER DR ',\n",
       " '4540 W 63RD ST ',\n",
       " '1435 W TAYLOR ST ',\n",
       " '1238 W BELMONT AVE ',\n",
       " '500 W MONROE ST ',\n",
       " '1354-1358 W BELMONT AVE ',\n",
       " '700 E GRAND AVE ',\n",
       " '4401 W ARMITAGE AVE ',\n",
       " '2886 N MILWAUKEE AVE ',\n",
       " '5800 W IRVING PARK RD ',\n",
       " '1441 W WILLOW ST ',\n",
       " '2001 W MARQUETTE RD ',\n",
       " '3500 N HALSTED ST ',\n",
       " '5306 S CENTRAL AVE ',\n",
       " '1160 N DEARBORN ST ',\n",
       " '3046-3050 W 63RD ST ',\n",
       " '3735 N KIMBALL AVE ',\n",
       " '7340 S RACINE AVE ',\n",
       " '2120 W DIVISION ST ',\n",
       " '636 N ASHLAND AVE ',\n",
       " '900 N NORTH BRANCH ST ',\n",
       " '2521 N CALIFORNIA AVE ',\n",
       " '875 N MICHIGAN AVE ',\n",
       " '2829 S CALIFORNIA AVE ',\n",
       " '1626 S BLUE ISLAND AVE ',\n",
       " '2324 S LEAVITT ST ',\n",
       " '7200 S WESTERN AVE ',\n",
       " '5050 W GRAND AVE ',\n",
       " '2811 N ASHLAND AVE ',\n",
       " '3014-3016 W IRVING PARK RD ',\n",
       " '5039 N Kimball AVE ',\n",
       " '3705-3713 W 16TH ST ',\n",
       " '8422 S DAMEN AVE ',\n",
       " '8 E CERMAK RD ',\n",
       " '5001 N BROADWAY ',\n",
       " '6100 S WESTERN AVE ',\n",
       " '7358 S STONY ISLAND AVE ',\n",
       " '2300 S THROOP ST ',\n",
       " '614 S WABASH AVE ',\n",
       " '4706-08 N KIMBALL AVE ',\n",
       " '6550 S COTTAGE GROVE AVE ',\n",
       " '1401 W TAYLOR ST ',\n",
       " '2503 N CLARK ST ',\n",
       " '5800 W GRAND AVE ',\n",
       " '612 S WABASH AVE ',\n",
       " '1542 N DAMEN AVE ',\n",
       " '2910 W ARMITAGE AVE ',\n",
       " '4173 S ARCHER AVE ',\n",
       " '801-819 W GARFIELD BLVD ',\n",
       " '3149 W DIVERSEY AVE ',\n",
       " '13227 S BRAINARD AVE ',\n",
       " '5112 W Fullerton AVE ',\n",
       " '3823 W 31ST ST ',\n",
       " '1241 N CLYBOURN AVE ',\n",
       " '953 W IRVING PARK RD ',\n",
       " '10806 S MICHIGAN AVE ',\n",
       " '5777 N MILWAUKEE AVE ',\n",
       " '2844 N BROADWAY ',\n",
       " '65 E ADAMS ST ',\n",
       " '3232 W DIVISION ST ',\n",
       " '3620 N CLARK ST ',\n",
       " '4746-4750 N Lincoln AVE ',\n",
       " '178 N Wabash AVE ',\n",
       " '225 S CANAL ST ',\n",
       " '1119-1121 W WEBSTER AVE ',\n",
       " '7626 S HALSTED ST ',\n",
       " '7779 W TALCOTT AVE ',\n",
       " '3103 N Narragansett AVE ',\n",
       " '3206 N CICERO AVE ',\n",
       " '39 S LA SALLE ST ',\n",
       " '650 E 85th St (8500S) ',\n",
       " '10650 S LONGWOOD DR ',\n",
       " '3911 N SHERIDAN RD ',\n",
       " '405 N Wasbash AVE ',\n",
       " '7646 S Green (832W) ',\n",
       " '316 S CICERO AVE ',\n",
       " '2219 E 79TH ST ',\n",
       " '2305 1/2 W DEVON AVE ',\n",
       " '1825 W MONTROSE AVE ',\n",
       " '8858 S ASHLAND AVE ',\n",
       " '5014 N LINCOLN AVE ',\n",
       " '3719 E 106TH ST ',\n",
       " '4806-4808 N KEDZIE AVE ',\n",
       " '4827 W CHICAGO AVE ',\n",
       " '7318 S VINCENNES AVE ',\n",
       " '4056 S WESTERN AVE ',\n",
       " '3038 - 3046 W 59TH ST ',\n",
       " '936 W DIVERSEY PKWY ',\n",
       " '4725 S CICERO AVE ',\n",
       " '37 N WELLS ST ',\n",
       " '4350 W 79th St ',\n",
       " '2138 S ARCHER AVE ',\n",
       " '4646 N MARINE DR ',\n",
       " '6316 S ARCHER AVE ',\n",
       " '4500 N LINCOLN AVE ',\n",
       " '2755 W BELMONT AVE ',\n",
       " '101 N WACKER DR ',\n",
       " '7350 N SHERIDAN RD ',\n",
       " '909 W WASHINGTON BLVD ',\n",
       " '4325 N MILWAUKEE AVE ',\n",
       " '4750 N KENNETH AVE ',\n",
       " '1036 N DEARBORN ST ',\n",
       " '55 E GRAND AVE ',\n",
       " '3539 N WESTERN AVE ',\n",
       " '2843 W 63 ST ',\n",
       " '3337 W BELMONT AVE ',\n",
       " '444 W FULLERTON PKWY ',\n",
       " '4235 S Kedzie AVE ',\n",
       " '2650 N NARRAGANSETT AVE ',\n",
       " '7213 W IRVING PARK RD ',\n",
       " '520 N MICHIGAN AVE ',\n",
       " '2834 W CERMAK RD ',\n",
       " '2057 W NORTH AVE ',\n",
       " '8240 S COTTAGE GROVE AVE ',\n",
       " '9709 S HALSTED ST ',\n",
       " '543 N Waller ',\n",
       " '1441 W MONTROSE AVE ',\n",
       " '7443 S INGLESIDE AVE ',\n",
       " '3754-3758 W ARMITAGE AVE ',\n",
       " '742 W 31ST ST ',\n",
       " '157 W 119TH ST ',\n",
       " '3311 W FULLERTON AVE ',\n",
       " '3605 N ASHLAND AVE ',\n",
       " '300 W GRAND AVE ',\n",
       " '3701 W 59TH ST ',\n",
       " '3555-3557 N BROADWAY ',\n",
       " '205-209 N Peoria ST ',\n",
       " '5527 N MAPLEWOOD AVE ',\n",
       " '10354 S HALSTED ST ',\n",
       " '45 N WELLS ST ',\n",
       " '4150 N BROADWAY ',\n",
       " '949 N WESTERN AVE ',\n",
       " '6260-6262 N CLARK ST ',\n",
       " '13359 S BRANDON AVE ',\n",
       " '5019 W FULLERTON AVE ',\n",
       " '2049 W HOWARD ST ',\n",
       " '4159 S CAMPBELL AVE ',\n",
       " '2021 N Burling AVE ',\n",
       " '740 N DAMEN AVE ',\n",
       " '9305 S HALSTED ST ',\n",
       " '600 S DEARBORN ST ',\n",
       " '1982 N CLYBOURN AVE ',\n",
       " '3110 N SHEFFIELD AVE ',\n",
       " '947 W FULLERTON AVE ',\n",
       " '7059 S HALSTED ST ',\n",
       " '1100 W MADISON ST ',\n",
       " '4840 N MARINE DR ',\n",
       " '2113 W TOUHY AVE ',\n",
       " '957 W ARMITAGE AVE ',\n",
       " '400 S WELLS ST ',\n",
       " '100 W 87TH ST ',\n",
       " '6211 N LINCOLN AVE ',\n",
       " '980 N MICHIGAN AVE ',\n",
       " '209 W JACKSON BLVD ',\n",
       " '2011 S LAFLIN ST ',\n",
       " '4011 N RAVENSWOOD AVE ',\n",
       " '6700 S KEATING AVE ',\n",
       " '5659 S ASHLAND AVE ',\n",
       " '324 N LEAVITT ST ',\n",
       " '10200 S AVENUE J ',\n",
       " '1325 W WILSON AVE ',\n",
       " '6969 N RAVENSWOOD AVE ',\n",
       " '6451 W DIVERSEY AVE ',\n",
       " '1744 W Pryor (11156 S) ',\n",
       " '4210 N CICERO AVE ',\n",
       " '10 N DEARBORN ST ',\n",
       " '432 W DIVERSEY PKWY ',\n",
       " '2612 S KEDZIE AVE ',\n",
       " '5645 W BELMONT AVE ',\n",
       " '3638 W FULLERTON AVE ',\n",
       " '1755 W 18TH ST ',\n",
       " '1925 W CORTLAND ST ',\n",
       " '7109 S DR MARTIN LUTHER KING JR DR ',\n",
       " '4815 S Karlov ',\n",
       " '5937 N BROADWAY ',\n",
       " '2322 W NORTH AVE ',\n",
       " '1822 W 63RD ST ',\n",
       " '2333 W NORTH AVE ',\n",
       " '4036 N NARRAGANSETT ',\n",
       " '201 W MADISON ST ',\n",
       " '1121 N ORLEANS ST ',\n",
       " '4019 N DAMEN AVE ',\n",
       " '3340-3342 W BRYN MAWR AVE ',\n",
       " '5606 W Irving Park RD ',\n",
       " '210-230 W NORTH AVE ',\n",
       " '4148 W MONTROSE AVE ',\n",
       " '6940 S ASHLAND AVE ',\n",
       " '5609 W BLOOMINGDALE AVE ',\n",
       " '3700 W LAWRENCE AVE ',\n",
       " '2944 W DEVON AVE ',\n",
       " '126 E CHESTNUT ST ',\n",
       " '2711 N ELSTON AVE ',\n",
       " '2411 S WENTWORTH AVE ',\n",
       " '4353 W FULLERTON AVE ',\n",
       " '6323 N AVONDALE AVE ',\n",
       " '5100 W NORTH AVE ',\n",
       " '1443-1445 W FULLERTON AVE ',\n",
       " '640 W Scott ST ',\n",
       " '5401 S WENTWORTH AVE ',\n",
       " '5663-5665 N CLARK ST ',\n",
       " '1427 W MONTROSE AVE ',\n",
       " '4706-4712 N BROADWAY ',\n",
       " '2657 S KOLIN AVE ',\n",
       " '1708 W 63RD ST ',\n",
       " '2142 E 71ST ST ',\n",
       " '2526 W CERMAK RD ',\n",
       " '3203 N CLARK ST ',\n",
       " '2101 E 71ST ST ',\n",
       " '1031 W WILSON AVE ',\n",
       " '444 W JACKSON BLVD ',\n",
       " '3711 W MONTROSE AVE ',\n",
       " '125 W OHIO ST ',\n",
       " '5805 W DIVERSEY AVE ',\n",
       " '628 W FULTON ST ',\n",
       " '1514 -1516 N WELLS ST ',\n",
       " '1217-1219 W FULLERTON AVE ',\n",
       " '4660 W IRVING PARK RD ',\n",
       " '2163 S CHINA PL ',\n",
       " '1501 W FULLERTON AVE ',\n",
       " '225 W CHICAGO AVE ',\n",
       " '444 N LA SALLE DR ',\n",
       " '2520 S HALSTED ST ',\n",
       " '2645 W NORTH AVE ',\n",
       " '6320 N LINCOLN AVE ',\n",
       " '1410 S MUSEUM CAMPUS DR ',\n",
       " '2218 N CALIFORNIA AVE ',\n",
       " '2226-2230 S ASHLAND AVE ',\n",
       " '3800 W 63RD ST ',\n",
       " '179 W VAN BUREN ST ',\n",
       " '283 N PULASKI RD ',\n",
       " '3247-3249 W MONTROSE AVE ',\n",
       " '3272 W 87TH ST ',\n",
       " '1721 N ELSTON AVE ',\n",
       " '3536-3538 N CICERO AVE ',\n",
       " '6101 N NORTHWEST HWY ',\n",
       " '5042 S Artesian AVE ',\n",
       " '901 W BELMONT AVE ',\n",
       " '6359 S DR MARTIN LUTHER KING JR DR ',\n",
       " '4861 N MILWAUKEE AVE ',\n",
       " '4344 S WENTWORTH AVE ',\n",
       " '5211 W DIVERSEY AVE ',\n",
       " '3728 S ARCHER AVE ',\n",
       " '2200 N ASHLAND AVE ',\n",
       " '3142-3144 W IRVING PARK RD ',\n",
       " '6221 N CLARK ST ',\n",
       " '4100-4102 N KEDZIE AVE ',\n",
       " '8500 W BRYN MAWR AVE ',\n",
       " '3459 W 59th ST ',\n",
       " '3640 N HALSTED ST ',\n",
       " '1746 W GRAND AVE ',\n",
       " '308-310 E 75TH ST ',\n",
       " '3939 N BROADWAY ',\n",
       " '2745 W Roosevelt Rd (1200S) ',\n",
       " '50 E GRAND AVE ',\n",
       " '435 N MICHIGAN AVE ',\n",
       " '335 S FRANKLIN ST ',\n",
       " '5-7 S CICERO AVE ',\n",
       " '2033-2035 W NORTH AVE ',\n",
       " '1856 W 35TH ST ',\n",
       " '7100 N Clark ST ',\n",
       " '701 S STATE ST ',\n",
       " '4621 N BROADWAY ',\n",
       " '100 W RANDOLPH ST ',\n",
       " '3322-3326 N BROADWAY ',\n",
       " '700 N MICHIGAN AVE ',\n",
       " '3537 N CLARK ST ',\n",
       " '3140 W 47TH ST ',\n",
       " '2546-2548 W PETERSON AVE ',\n",
       " '2506 N LARAMIE AVE ',\n",
       " '5324 N KEDZIE AVE ',\n",
       " '70-104 E OAK ST ',\n",
       " '400 N LA SALLE DR ',\n",
       " '4605 N KEDZIE AVE ',\n",
       " '1938 W CHICAGO AVE ',\n",
       " '1461-1467 W MONTROSE AVE ',\n",
       " '3913 N SHERIDAN RD ',\n",
       " '241 E 115TH ST ',\n",
       " '7500 S PULASKI RD ',\n",
       " '4136 S California (2800W) ',\n",
       " '2000-2006 W WARREN BLVD ',\n",
       " '7130 N WESTERN AVE ',\n",
       " '1738 W 18TH ST ',\n",
       " '6008 W FULLERTON AVE ',\n",
       " '6424 S PULASKI RD ',\n",
       " '2464 N CLARK ST ',\n",
       " '5654 N WASHTENAW AVE ',\n",
       " '5413 N CLARK ST ',\n",
       " '752 W GARFIELD BLVD ',\n",
       " '2890 N MILWAUKEE AVE ',\n",
       " '5114 S Elizabeth (1232W) ST ',\n",
       " '5401 S PULASKI RD ',\n",
       " '1072 N MILWAUKEE AVE ',\n",
       " '1228 W LOYOLA AVE ',\n",
       " '540 N MICHIGAN AVE ',\n",
       " '710 N CLARK ST ',\n",
       " '420 W BELMONT AVE ',\n",
       " '3746 W LAWRENCE AVE ',\n",
       " '10900  S WESTERN AVE ',\n",
       " '2229 S WENTWORTH AVE ',\n",
       " '2532 S CALIFORNIA AVE ',\n",
       " '9156 S STONY ISLAND AVE ',\n",
       " '1851 E 71ST ST ',\n",
       " '2355 W ADDISON ST ',\n",
       " '851 W Waveland AVE ',\n",
       " '1014 S WESTERN AVE ',\n",
       " '7059 S STATE ST ',\n",
       " '402 S KOSTNER AVE ',\n",
       " '1 E WACKER DR ',\n",
       " '1835 S CANAL ST ',\n",
       " '232-234 W 22ND PL ',\n",
       " '2237 S WENTWORTH AVE ',\n",
       " '5233 N LINCOLN AVE ',\n",
       " '3300 N BROADWAY ',\n",
       " '3824 W MADISON ST ',\n",
       " '3111 W MONTROSE AVE ',\n",
       " '6005 N SAUGANASH AVE ',\n",
       " '1140 S WASHTENAW ST ',\n",
       " '4649 S CICERO AVE ',\n",
       " '3901 W MADISON ST ',\n",
       " '364 W ERIE ST ',\n",
       " '215 W LAKE ST ',\n",
       " '1144 S WESTERN AVE ',\n",
       " '5633-5635 N ASHLAND AVE ',\n",
       " '5035 N LINCOLN AVE ',\n",
       " '8145 S PULASKI RD ',\n",
       " '120 W MONROE ST ',\n",
       " '7364 N CLARK ST ',\n",
       " '2353 W 111TH ST ',\n",
       " '3143-3145 N CENTRAL AVE ',\n",
       " '2739 W LAWRENCE AVE ',\n",
       " '823 N WESTERN AVE ',\n",
       " '55 E PEARSON ST ',\n",
       " '7137 N CLARK ST ',\n",
       " '405 E 75TH ST ',\n",
       " '2828 N CLARK ST ',\n",
       " '1432 W IRVING PARK RD ',\n",
       " '3510 S ASHLAND AVE ',\n",
       " '537 W 28TH ST ',\n",
       " '909 W IRVING PARK RD ',\n",
       " '9480 S EWING AVE ',\n",
       " '1060 W ADDISON ST ',\n",
       " '7710 W BELMONT AVE ',\n",
       " '5651-5653 N NORTHWEST HWY ',\n",
       " '3200 N CLARK ST ',\n",
       " '1508-1512 W BERWYN AVE ',\n",
       " '2870-2878 N LINCOLN AVE ',\n",
       " '7117-7119 W ADDISON ST ',\n",
       " '63 W GRAND AVE ',\n",
       " '5250 N CLARK ST ',\n",
       " '3450 N LINCOLN AVE ',\n",
       " '9802 S HALSTED ST ',\n",
       " '71 E MONROE ST ',\n",
       " '1112 W ARMITAGE AVE ',\n",
       " '750 N FRANKLIN ST ',\n",
       " '1378-84 W LAKE ST ',\n",
       " '343 N MICHIGAN AVE ',\n",
       " '6075 N MILWAUKEE AVE ',\n",
       " '6230 S WESTERN AVE ',\n",
       " '7230 N HARLEM AVE ',\n",
       " '3843 W 63RD ST ',\n",
       " '150 N RIVERSIDE PLZ ',\n",
       " '3650 W BELMONT AVE ',\n",
       " '2609 S KEDZIE AVE ',\n",
       " '1664-1666 N CALIFORNIA AVE ',\n",
       " '2556 S CALIFORNIA AVE ',\n",
       " '824 W BELMONT AVE ',\n",
       " '1109-1111 W ARGYLE ST ',\n",
       " '2 W ERIE ST ',\n",
       " '2355 W DEVON AVE ',\n",
       " '4763 N MILWAUKEE AVE ',\n",
       " '2435 W DEVON AVE ',\n",
       " '3660-3662 N CLARK ST ',\n",
       " '3059 S HARDING AVE ',\n",
       " '2657 W DEVON AVE ',\n",
       " '324 N LEAVITT ',\n",
       " '1707 W 47TH ST ',\n",
       " '111 W WASHINGTON ST ',\n",
       " '3139-3141 N CENTRAL AVE ',\n",
       " '11 E WALTON ST ',\n",
       " '3143 N MILWAUKEE AVE ',\n",
       " '2410 N LINCOLN AVE ',\n",
       " '3541-3543 S CALIFORNIA AVE ',\n",
       " '1954 W 48th ST (4800S) ',\n",
       " '800 W RANDOLPH ST ',\n",
       " '7424 S Morgan (1000W) ',\n",
       " '211 W 22ND PL ',\n",
       " '5757 S UNIVERSITY AVE ',\n",
       " '8905 S CRANDON AVE ',\n",
       " '2125 W HOWARD ST ',\n",
       " '6348 W HIGGINS AVE ',\n",
       " '6623 N DAMEN AVE ',\n",
       " '12050-12054 S DOTY AVE ',\n",
       " '3801-3805 N ASHLAND AVE ',\n",
       " '5050 S KEDZIE AVE ',\n",
       " '851-857 W FULTON MARKET ',\n",
       " '455 E ILLINOIS ST ',\n",
       " '1757-1759 W 18TH ST ',\n",
       " '5733-5743 W DIVISION ST ',\n",
       " '5345 W DEVON AVE ',\n",
       " '5648 W CHICAGO AVE ',\n",
       " '321 S JEFFERSON ST ',\n",
       " '153-155 W KINZIE ST ',\n",
       " '6 S CLARK ST ',\n",
       " '352 W ARMITAGE AVE ',\n",
       " '7158 W ADDISON ST ',\n",
       " '10538 S Langley (700E) ',\n",
       " '1922-1924 W CHICAGO AVE ',\n",
       " '6559 W ARCHER AVE ',\n",
       " '1101 S CANAL ST ',\n",
       " '1502 W 18TH ST ',\n",
       " '5777 N RIDGE AVE ',\n",
       " '3502 N HARLEM AVE ',\n",
       " '1620 W CHASE ST BLDG 1ST-2NDFL&BSMT',\n",
       " '3311 N RACINE AVE APT C',\n",
       " '2809 W 59TH ST ',\n",
       " '1018 S CANAL ST ',\n",
       " '101 W DIVISION ST ',\n",
       " '6044 N BROADWAY ',\n",
       " '1322 S HALSTED ST ',\n",
       " '5058 S HALSTED ST ',\n",
       " '4356 W DIVERSEY AVE ',\n",
       " '1055 W ARGYLE ST ',\n",
       " '5820 N MILWAUKEE AVE ',\n",
       " '1901 N KARLOV AVE ',\n",
       " '2211 N OAK PARK AVE ',\n",
       " '3503 W FULLERTON AVE ',\n",
       " '7900 S DR MARTIN LUTHER KING JR DR ',\n",
       " '951 W FULTON MARKET ',\n",
       " '6411 N WESTERN AVE ',\n",
       " '4009 N ELSTON AVE ',\n",
       " '3407 1/2 W MADISON ST ',\n",
       " '5605-5609 N CLARK ST ',\n",
       " '2624 W NORTH AVE ',\n",
       " '4323 W ADDISON ST ',\n",
       " '1313 W TOUHY AVE ',\n",
       " '2229 W TAYLOR ST ',\n",
       " '30 E HUBBARD ST ',\n",
       " '2 E ONTARIO ST ',\n",
       " '12 S MICHIGAN AVE ',\n",
       " '10912 S HALSTED ST ',\n",
       " '3216 W NORTH AVE ',\n",
       " '6606 N SHERIDAN RD ',\n",
       " '7445 S STATE ST ',\n",
       " '1401 N WELLS ST ',\n",
       " '1858 W PERSHING RD ',\n",
       " '2456 N CALIFORNIA AVE ',\n",
       " '10347 S EWING AVE ',\n",
       " '10740 S CALHOUN AVE FL ',\n",
       " '500 N LA SALLE DR ',\n",
       " '957 W GRACE ST ',\n",
       " '1629-1631 W HOWARD ST ',\n",
       " '3611-3617 N BROADWAY ',\n",
       " '7908 S HALSTED ST ',\n",
       " '3449 W ARTHINGTON ST ',\n",
       " '1904 W NORTH AVE ',\n",
       " '2252-2256 W IRVING PARK RD ',\n",
       " '11117 S HALSTED ST ',\n",
       " '151 E WACKER DR ',\n",
       " '451 W 31ST ST ',\n",
       " '7212 N Clark ST ',\n",
       " '1220 W WEBSTER AVE ',\n",
       " '411 S WELLS ST ',\n",
       " '1443 E 87TH ST ',\n",
       " '3723 W CHICAGO AVE ',\n",
       " '742 E 95TH ST ',\n",
       " '4237 W 63RD ST ',\n",
       " '6332 N BROADWAY ',\n",
       " '4262 N MILWAUKEE AVE ',\n",
       " '1640 W 115TH ST ',\n",
       " '4439 W 63RD ST ',\n",
       " '6701-6703 N CLARK ST ',\n",
       " '8618 S KEDZIE AVE ',\n",
       " '11250 S MICHIGAN AVE ',\n",
       " '211 N STETSON AVE ',\n",
       " '111 N STATE ST ',\n",
       " '6323 W BELMONT AVE ',\n",
       " '207 W SUPERIOR ST ',\n",
       " '7 E GARFIELD BLVD ',\n",
       " '6808 W NORTH AVE ',\n",
       " '2601 W 80th ST ',\n",
       " '4640 N CUMBERLAND ',\n",
       " '3737 W 31st St (3000S) ',\n",
       " '50 W 71ST ST ',\n",
       " '2701 N SHEFFIELD AVE ',\n",
       " '7856 S ASHLAND AVE ',\n",
       " '525 E 130TH ST ',\n",
       " '5423 W BELMONT AVE ',\n",
       " '124 E 35TH ST ',\n",
       " '2568-2570 N CLARK ST ',\n",
       " '12345 S HALSTED ST ',\n",
       " '1720 W 18TH ST ',\n",
       " '2945 N Sawyer ST ',\n",
       " '1615 S CLARK ST ',\n",
       " '1048 W WAVELAND AVE ',\n",
       " '1160 N CLARK ST ',\n",
       " '4044 W Armitage AVE ',\n",
       " '3616 W ARMITAGE AVE ',\n",
       " '346 E 75TH ST ',\n",
       " '2147 S CHINA PL ',\n",
       " '118 S CLINTON ST ',\n",
       " '748 W 61ST ST ',\n",
       " '4214 W NORTH AVE ',\n",
       " '3664 N CLARK ST ',\n",
       " '813 W LAKE ',\n",
       " '2222 N ELSTON AVE ',\n",
       " '10533 S EWING AVE ',\n",
       " '1600 W CHICAGO AVE ',\n",
       " '2523 N CLARK ST ',\n",
       " '7055 W ARCHER AVE ',\n",
       " '10437 S WESTERN AVE ',\n",
       " '515 N STATE ST ',\n",
       " '3835 W 31ST ST ',\n",
       " '6422 W 63RD ST ',\n",
       " '3805 W DIVISION ST ',\n",
       " '5279 N ELSTON AVE ',\n",
       " '1147 W GRAND AVE ',\n",
       " '44 S WABASH AVE ',\n",
       " '1745 W CHICAGO AVE ',\n",
       " '340 W 83RD ST ',\n",
       " '1746 N WESTERN AVE ',\n",
       " '1460 W CHICAGO AVE ',\n",
       " '4224 W 31ST ST ',\n",
       " '1474 N MILWAUKEE AVE ',\n",
       " '66 W ILLINOIS ST ',\n",
       " '1759 N HARLEM AVE ',\n",
       " '215-225 W PERSHING RD ',\n",
       " '1530 N DAYTON ST ',\n",
       " '6535 W 63RD ST ',\n",
       " '1548 N DAMEN AVE ',\n",
       " '4560 N LINCOLN AVE ',\n",
       " '1804-1806 W Division ST ',\n",
       " '3240 W ROOSEVELT RD ',\n",
       " '7353 S CICERO AVE ',\n",
       " '1161 N PULASKI RD ',\n",
       " '2058 E 71ST ST ',\n",
       " '6207 S KEDZIE AVE ',\n",
       " '7435 W TALCOTT AVE ',\n",
       " '3008 E 92ND ST ',\n",
       " '2701 W NORTH AVE ',\n",
       " '1736 S MICHIGAN AVE ',\n",
       " ...]"
      ]
     },
     "execution_count": 452,
     "metadata": {},
     "output_type": "execute_result"
    }
   ],
   "source": [
    "# 값이 일정한 형식을 띱니다. 대분류 혹은 중분류까지 묶을 수 있을 것으로 보입니다.\n",
    "train['Address'].unique().tolist()"
   ]
  },
  {
   "cell_type": "code",
   "execution_count": 453,
   "metadata": {},
   "outputs": [
    {
     "name": "stdout",
     "output_type": "stream",
     "text": [
      "487\n",
      "983\n",
      "884\n",
      "6270\n"
     ]
    }
   ],
   "source": [
    "# 대분류 결과, 주소의 맨 마지막 단위로, 487개의 카테고리로 묶을 수 있다는 것을 확인했습니다.\n",
    "\n",
    "print( train['Address'].str.split(' ').str[-2].nunique() )\n",
    "print( train['Address'].str.split(' ').str[-3].nunique() )\n",
    "print( train['Address'].str.split(' ').str[-4].nunique() )\n",
    "print( train['Address'].str.split(' ').str[-5].nunique() )"
   ]
  },
  {
   "cell_type": "markdown",
   "metadata": {},
   "source": [
    "### City : 31개의 Category가 있음을 확인했습니다. Unbalanced - 시카고 City 가 압도적 높은 비율입니다.\n",
    "결과 : City는 Address 혹은 우편번호와 상관관계가 있을 수 있음을 예상할 수 있습니다. 상관관계 확인 후, Feature를 정리해야 합니다."
   ]
  },
  {
   "cell_type": "code",
   "execution_count": 454,
   "metadata": {},
   "outputs": [
    {
     "data": {
      "text/plain": [
       "CHICAGO                 59771\n",
       "Chicago                    81\n",
       "chicago                    36\n",
       "CCHICAGO                    9\n",
       "ELK GROVE VILLAGE           5\n",
       "INACTIVE                    4\n",
       "SCHAUMBURG                  4\n",
       "CICERO                      4\n",
       "MAYWOOD                     3\n",
       "CHicago                     3\n",
       "HIGHLAND PARK               2\n",
       "CHICAGOCHICAGO              2\n",
       "SKOKIE                      2\n",
       "OAK PARK                    2\n",
       "SUMMIT                      2\n",
       "CALUMET CITY                2\n",
       "BOLINGBROOK                 1\n",
       "PLAINFIELD                  1\n",
       "CHICAGOI                    1\n",
       "LAKE ZURICH                 1\n",
       "NEW HOLSTEIN                1\n",
       "WHEATON                     1\n",
       "BRIDGEVIEW                  1\n",
       "alsip                       1\n",
       "STREAMWOOD                  1\n",
       "CHCICAGO                    1\n",
       "EVANSTON                    1\n",
       "WORTH                       1\n",
       "ELMHURST                    1\n",
       "CHICAGO.                    1\n",
       "EAST HAZEL CREST            1\n",
       "312CHICAGO                  1\n",
       "GRIFFITH                    1\n",
       "ROSEMONT                    1\n",
       "NILES NILES                 1\n",
       "WESTMONT                    1\n",
       "BURNHAM                     1\n",
       "BANNOCKBURNDEERFIELD        1\n",
       "CHARLES A HAYES             1\n",
       "Name: City, dtype: int64"
      ]
     },
     "execution_count": 454,
     "metadata": {},
     "output_type": "execute_result"
    }
   ],
   "source": [
    "# 데이터를 확인해본 결과, 오류가 존재합니다. 오타를 없애 정제를 시도합니다.\n",
    "train['City'].value_counts()"
   ]
  },
  {
   "cell_type": "code",
   "execution_count": 455,
   "metadata": {},
   "outputs": [
    {
     "name": "stderr",
     "output_type": "stream",
     "text": [
      "C:\\ProgramData\\Anaconda3\\lib\\site-packages\\ipykernel_launcher.py:5: SettingWithCopyWarning: \n",
      "A value is trying to be set on a copy of a slice from a DataFrame\n",
      "\n",
      "See the caveats in the documentation: http://pandas.pydata.org/pandas-docs/stable/user_guide/indexing.html#returning-a-view-versus-a-copy\n",
      "  \"\"\"\n"
     ]
    }
   ],
   "source": [
    "# City 값을 모두 대문자(+기호 없애기)로 동일하게 변경하는 for문\n",
    "train['City']=train['City'].astype('str')\n",
    "\n",
    "for i in range(0,len(train)):\n",
    "    train['City'][i] = train['City'][i].upper().replace('.','')"
   ]
  },
  {
   "cell_type": "code",
   "execution_count": 456,
   "metadata": {},
   "outputs": [],
   "source": [
    "# 시카고의 TYPO 해결하는 fcr 문\n",
    "typo = ['CCHICAGO','CHICAGOCHICAGO','CHICAGOI','CHCICAGO','312CHICAGO']\n",
    "for i in typo: train['City'] = train['City'].replace(i,'CHICAGO')"
   ]
  },
  {
   "cell_type": "code",
   "execution_count": 457,
   "metadata": {},
   "outputs": [
    {
     "data": {
      "text/plain": [
       "CHICAGO                 59906\n",
       "NAN                        45\n",
       "ELK GROVE VILLAGE           5\n",
       "INACTIVE                    4\n",
       "SCHAUMBURG                  4\n",
       "CICERO                      4\n",
       "MAYWOOD                     3\n",
       "SKOKIE                      2\n",
       "OAK PARK                    2\n",
       "HIGHLAND PARK               2\n",
       "CALUMET CITY                2\n",
       "SUMMIT                      2\n",
       "ELMHURST                    1\n",
       "PLAINFIELD                  1\n",
       "GRIFFITH                    1\n",
       "BRIDGEVIEW                  1\n",
       "ALSIP                       1\n",
       "WHEATON                     1\n",
       "BOLINGBROOK                 1\n",
       "LAKE ZURICH                 1\n",
       "WORTH                       1\n",
       "STREAMWOOD                  1\n",
       "BANNOCKBURNDEERFIELD        1\n",
       "EVANSTON                    1\n",
       "CHARLES A HAYES             1\n",
       "NEW HOLSTEIN                1\n",
       "ROSEMONT                    1\n",
       "NILES NILES                 1\n",
       "WESTMONT                    1\n",
       "BURNHAM                     1\n",
       "EAST HAZEL CREST            1\n",
       "Name: City, dtype: int64"
      ]
     },
     "execution_count": 457,
     "metadata": {},
     "output_type": "execute_result"
    }
   ],
   "source": [
    "train['City'].value_counts()"
   ]
  },
  {
   "cell_type": "code",
   "execution_count": 458,
   "metadata": {},
   "outputs": [
    {
     "data": {
      "text/plain": [
       "31"
      ]
     },
     "execution_count": 458,
     "metadata": {},
     "output_type": "execute_result"
    }
   ],
   "source": [
    "# 오류 해결 결과, 31개의 카테고리가 있음을 확인\n",
    "train['City'].nunique()"
   ]
  },
  {
   "cell_type": "markdown",
   "metadata": {},
   "source": [
    "### State : 3개의 Category이나, IL 값이 압도적으로 많기 때문에, 나머지 값(WI,IN)을 Outlier 처리합니다.\n",
    "결과:이렇게 하면 State가 제공하는 정보가 크지 않으므로, 이 Feature 자체를 삭제하는 것이 올바르다고 판단합니다."
   ]
  },
  {
   "cell_type": "code",
   "execution_count": 459,
   "metadata": {},
   "outputs": [
    {
     "data": {
      "text/plain": [
       "IL    59983\n",
       "WI        1\n",
       "IN        1\n",
       "Name: State, dtype: int64"
      ]
     },
     "execution_count": 459,
     "metadata": {},
     "output_type": "execute_result"
    }
   ],
   "source": [
    "train['State'].value_counts()"
   ]
  },
  {
   "cell_type": "code",
   "execution_count": 460,
   "metadata": {},
   "outputs": [
    {
     "data": {
      "text/html": [
       "<div>\n",
       "<style scoped>\n",
       "    .dataframe tbody tr th:only-of-type {\n",
       "        vertical-align: middle;\n",
       "    }\n",
       "\n",
       "    .dataframe tbody tr th {\n",
       "        vertical-align: top;\n",
       "    }\n",
       "\n",
       "    .dataframe thead th {\n",
       "        text-align: right;\n",
       "    }\n",
       "</style>\n",
       "<table border=\"1\" class=\"dataframe\">\n",
       "  <thead>\n",
       "    <tr style=\"text-align: right;\">\n",
       "      <th></th>\n",
       "      <th>Inspection ID</th>\n",
       "      <th>DBA Name</th>\n",
       "      <th>AKA Name</th>\n",
       "      <th>License #</th>\n",
       "      <th>Facility Type</th>\n",
       "      <th>Risk</th>\n",
       "      <th>Address</th>\n",
       "      <th>City</th>\n",
       "      <th>State</th>\n",
       "      <th>Zip</th>\n",
       "      <th>...</th>\n",
       "      <th>Violations</th>\n",
       "      <th>Latitude</th>\n",
       "      <th>Longitude</th>\n",
       "      <th>Location</th>\n",
       "      <th>Inspection Fail</th>\n",
       "      <th>AKA Name_Label</th>\n",
       "      <th>DBA Name_Label</th>\n",
       "      <th>License #_Label</th>\n",
       "      <th>Facility Type_Label</th>\n",
       "      <th>Address_Label</th>\n",
       "    </tr>\n",
       "  </thead>\n",
       "  <tbody>\n",
       "    <tr>\n",
       "      <td>18316</td>\n",
       "      <td>2301197</td>\n",
       "      <td>ICE CREAM ON WHEELS</td>\n",
       "      <td>ICE CREAM ON WHEELS</td>\n",
       "      <td>2678115.0</td>\n",
       "      <td>Mobile Food Dispenser</td>\n",
       "      <td>Risk 3 (Low)</td>\n",
       "      <td>2011 N GRIFFIN BLVD</td>\n",
       "      <td>GRIFFITH</td>\n",
       "      <td>IN</td>\n",
       "      <td>46319.0</td>\n",
       "      <td>...</td>\n",
       "      <td>5. PROCEDURES FOR RESPONDING TO VOMITING AND D...</td>\n",
       "      <td>NaN</td>\n",
       "      <td>NaN</td>\n",
       "      <td>NaN</td>\n",
       "      <td>1</td>\n",
       "      <td>8019</td>\n",
       "      <td>8441</td>\n",
       "      <td>24434</td>\n",
       "      <td>218</td>\n",
       "      <td>3625</td>\n",
       "    </tr>\n",
       "    <tr>\n",
       "      <td>50966</td>\n",
       "      <td>2293796</td>\n",
       "      <td>THE COOKIE CRATE</td>\n",
       "      <td>THE COOKIE CRATE</td>\n",
       "      <td>2652809.0</td>\n",
       "      <td>Shared Kitchen User (Long Term)</td>\n",
       "      <td>Risk 2 (Medium)</td>\n",
       "      <td>N2660 HAYTON RD</td>\n",
       "      <td>NEW HOLSTEIN</td>\n",
       "      <td>WI</td>\n",
       "      <td>53061.0</td>\n",
       "      <td>...</td>\n",
       "      <td>3. MANAGEMENT, FOOD EMPLOYEE AND CONDITIONAL E...</td>\n",
       "      <td>NaN</td>\n",
       "      <td>NaN</td>\n",
       "      <td>NaN</td>\n",
       "      <td>0</td>\n",
       "      <td>17088</td>\n",
       "      <td>17935</td>\n",
       "      <td>24107</td>\n",
       "      <td>294</td>\n",
       "      <td>15243</td>\n",
       "    </tr>\n",
       "  </tbody>\n",
       "</table>\n",
       "<p>2 rows × 22 columns</p>\n",
       "</div>"
      ],
      "text/plain": [
       "       Inspection ID             DBA Name             AKA Name  License #  \\\n",
       "18316        2301197  ICE CREAM ON WHEELS  ICE CREAM ON WHEELS  2678115.0   \n",
       "50966        2293796     THE COOKIE CRATE     THE COOKIE CRATE  2652809.0   \n",
       "\n",
       "                         Facility Type             Risk               Address  \\\n",
       "18316            Mobile Food Dispenser     Risk 3 (Low)  2011 N GRIFFIN BLVD    \n",
       "50966  Shared Kitchen User (Long Term)  Risk 2 (Medium)      N2660 HAYTON RD    \n",
       "\n",
       "               City State      Zip  ...  \\\n",
       "18316      GRIFFITH    IN  46319.0  ...   \n",
       "50966  NEW HOLSTEIN    WI  53061.0  ...   \n",
       "\n",
       "                                              Violations Latitude Longitude  \\\n",
       "18316  5. PROCEDURES FOR RESPONDING TO VOMITING AND D...      NaN       NaN   \n",
       "50966  3. MANAGEMENT, FOOD EMPLOYEE AND CONDITIONAL E...      NaN       NaN   \n",
       "\n",
       "       Location  Inspection Fail AKA Name_Label  DBA Name_Label  \\\n",
       "18316       NaN                1           8019            8441   \n",
       "50966       NaN                0          17088           17935   \n",
       "\n",
       "       License #_Label  Facility Type_Label  Address_Label  \n",
       "18316            24434                  218           3625  \n",
       "50966            24107                  294          15243  \n",
       "\n",
       "[2 rows x 22 columns]"
      ]
     },
     "execution_count": 460,
     "metadata": {},
     "output_type": "execute_result"
    }
   ],
   "source": [
    "# 각각 1개의 값을 가진 WI, IN이 어떤 값인지 확인 - NaN 값이 많고, 각각 1개씩으로 이상치로 판단\n",
    "train[(train['State']=='WI') | (train['State']=='IN')]"
   ]
  },
  {
   "cell_type": "markdown",
   "metadata": {},
   "source": [
    "### \tZip\t(우편번호) : 86개의 Category를 32개로 범주화 합니다.\n",
    "결과 : City의 Category 개수와 어느정도 비슷합니다. 이들의 상관관계를 확인해보아야 합니다."
   ]
  },
  {
   "cell_type": "code",
   "execution_count": 461,
   "metadata": {},
   "outputs": [
    {
     "name": "stdout",
     "output_type": "stream",
     "text": [
      "86\n",
      "[60614. 60603. 60601. 60616. 60647. 60624. 60632. 60615. 60645. 60626.\n",
      " 60610. 60613. 60619. 60625. 60628. 60666. 60649. 60612. 60618. 60644.\n",
      " 60620. 60641. 60637. 60659. 60636. 60604. 60640. 60606. 60639. 60607.\n",
      " 60617. 60654. 60611. 60605. 60621. 60622. 60609. 60651. 60638. 60661.\n",
      " 60643. 60657. 60804. 60634. 60653. 60608. 60623. 60629. 60652. 60646.\n",
      " 60630. 60660. 60631. 60827. 60602. 60642. 60655. 60714. 60707. 60153.\n",
      " 60633. 60656.    nan 60201. 60007. 60302. 60018. 60047. 60429. 60076.\n",
      " 46319. 60627. 60193. 60440. 60035. 60126. 60585. 60189. 60409. 60107.\n",
      " 60501. 60455. 60559. 60482. 53061. 60015. 60805.]\n"
     ]
    }
   ],
   "source": [
    "#우편번호의 Category는 86개이며, null값이 존재합니다.\n",
    "print(train['Zip'].nunique())\n",
    "\n",
    "print(train['Zip'].unique())"
   ]
  },
  {
   "cell_type": "code",
   "execution_count": 462,
   "metadata": {},
   "outputs": [
    {
     "name": "stdout",
     "output_type": "stream",
     "text": [
      "32 \n",
      "\n",
      "60620.0    13681\n",
      "60610.0    13197\n",
      "60640.0     9250\n",
      "60630.0     7239\n",
      "60650.0     6574\n",
      "60660.0     5648\n",
      "60600.0     3225\n",
      "60670.0      762\n",
      "60710.0      320\n",
      "60830.0       49\n",
      "60010.0        5\n",
      "60800.0        5\n",
      "60190.0        5\n",
      "60150.0        3\n",
      "60500.0        2\n",
      "60040.0        2\n",
      "60020.0        2\n",
      "60080.0        2\n",
      "60410.0        2\n",
      "60300.0        2\n",
      "60050.0        1\n",
      "60110.0        1\n",
      "60130.0        1\n",
      "53060.0        1\n",
      "60460.0        1\n",
      "60200.0        1\n",
      "60430.0        1\n",
      "60440.0        1\n",
      "60480.0        1\n",
      "60560.0        1\n",
      "60580.0        1\n",
      "46320.0        1\n",
      "Name: Zip, dtype: int64\n"
     ]
    }
   ],
   "source": [
    "#Category 범주화를 시켜줍니다. (값이 너무 하나의 value로 치우치지 않을 정도로 묶어줍니다.)\n",
    "\n",
    "print(train['Zip'].round(-1).nunique(),'\\n')\n",
    "print(train['Zip'].round(-1).value_counts())\n",
    "train['Zip']=train['Zip'].round(-1)"
   ]
  },
  {
   "cell_type": "markdown",
   "metadata": {},
   "source": [
    "### Inspection Date : 날짜 별 데이터 분포는 각각 차이가 존재합니다."
   ]
  },
  {
   "cell_type": "code",
   "execution_count": 463,
   "metadata": {},
   "outputs": [],
   "source": [
    "# dtype를 datetime으로 바꿉니다.\n",
    "train['Inspection Date']=pd.to_datetime(train['Inspection Date'])"
   ]
  },
  {
   "cell_type": "code",
   "execution_count": 466,
   "metadata": {},
   "outputs": [
    {
     "data": {
      "text/plain": [
       "<matplotlib.axes._subplots.AxesSubplot at 0x2299838ecc8>"
      ]
     },
     "execution_count": 466,
     "metadata": {},
     "output_type": "execute_result"
    },
    {
     "data": {
      "image/png": "[encoded data removed]",
      "text/plain": [
       "<Figure size 720x360 with 1 Axes>"
      ]
     },
     "metadata": {
      "needs_background": "light"
     },
     "output_type": "display_data"
    }
   ],
   "source": [
    "# 연도 별 데이터 개수의 차이가 존재하는지 확인합니다. 그 결과, 2016년도까지 증가하다가 2020년 급감함을 알 수 있습니다.\n",
    "# 시계열 데이터의 정보가 Unbalanced 합니다.\n",
    "plt.figure(figsize=(10,5))\n",
    "train.groupby(['Inspection Date']).count()['Inspection Fail'].plot()"
   ]
  },
  {
   "cell_type": "markdown",
   "metadata": {},
   "source": [
    "### \tInspection Type : Category 종류가 다양하며, 오류가 존재합니다."
   ]
  },
  {
   "cell_type": "code",
   "execution_count": 468,
   "metadata": {},
   "outputs": [
    {
     "name": "stdout",
     "output_type": "stream",
     "text": [
      "55 \n",
      "\n",
      "Canvass                                      31913\n",
      "License                                       7876\n",
      "Canvass Re-Inspection                         6436\n",
      "Complaint                                     5544\n",
      "License Re-Inspection                         2641\n",
      "Complaint Re-Inspection                       2234\n",
      "Short Form Complaint                          2046\n",
      "Suspected Food Poisoning                       253\n",
      "Consultation                                   192\n",
      "Tag Removal                                    175\n",
      "License-Task Force                             168\n",
      "Recent Inspection                              121\n",
      "Out of Business                                 79\n",
      "Task Force Liquor 1475                          79\n",
      "Suspected Food Poisoning Re-inspection          50\n",
      "Complaint-Fire                                  39\n",
      "Short Form Fire-Complaint                       35\n",
      "No Entry                                        22\n",
      "Special Events (Festivals)                      15\n",
      "Complaint-Fire Re-inspection                    14\n",
      "LICENSE REQUEST                                 11\n",
      "Not Ready                                        7\n",
      "Pre-License Consultation                         5\n",
      "Non-Inspection                                   4\n",
      "OUT OF BUSINESS                                  4\n",
      "Package Liquor 1474                              4\n",
      "no entry                                         2\n",
      "NO ENTRY                                         2\n",
      "SFP/COMPLAINT                                    2\n",
      "Illegal Operation                                2\n",
      "error save                                       1\n",
      "task force                                       1\n",
      "LICENSE/NOT READY                                1\n",
      "CHANGED COURT DATE                               1\n",
      "TASKFORCE                                        1\n",
      "SFP/Complaint                                    1\n",
      "O.B.                                             1\n",
      "CANVASS RE INSPECTION OF CLOSE UP                1\n",
      "TAVERN 1470                                      1\n",
      "Duplicated                                       1\n",
      "REINSPECTION                                     1\n",
      "CANVASS SCHOOL/SPECIAL EVENT                     1\n",
      "KITCHEN CLOSED FOR RENOVATION                    1\n",
      "LIQOUR TASK FORCE NOT READY                      1\n",
      "OFFICE ASSIGNMENT                                1\n",
      "TASK FORCE LIQUOR (1481)                         1\n",
      "CANVASS SPECIAL EVENTS                           1\n",
      "COVID COMPLAINT                                  1\n",
      "DAY CARE LICENSE RENEWAL                         1\n",
      "LICENSE TASK FORCE / NOT -FOR-PROFIT CLUB        1\n",
      "TASK FORCE PACKAGE GOODS 1474                    1\n",
      "fire complaint                                   1\n",
      "Recent inspection                                1\n",
      "LICENSE CONSULTATION                             1\n",
      "POSSIBLE FBI                                     1\n",
      "Name: Inspection Type, dtype: int64\n"
     ]
    }
   ],
   "source": [
    "print(train['Inspection Type'].nunique(),'\\n')\n",
    "print(train['Inspection Type'].value_counts())"
   ]
  },
  {
   "cell_type": "markdown",
   "metadata": {},
   "source": [
    "### \tViolations\t"
   ]
  },
  {
   "cell_type": "code",
   "execution_count": 469,
   "metadata": {},
   "outputs": [
    {
     "data": {
      "text/plain": [
       "0                                                      NaN\n",
       "1        34. FLOORS: CONSTRUCTED PER CODE, CLEANED, GOO...\n",
       "2        30. FOOD IN ORIGINAL CONTAINER, PROPERLY LABEL...\n",
       "3        33. FOOD AND NON-FOOD CONTACT EQUIPMENT UTENSI...\n",
       "4                                                      NaN\n",
       "                               ...                        \n",
       "59995    55. PHYSICAL FACILITIES INSTALLED, MAINTAINED ...\n",
       "59996    34. FLOORS: CONSTRUCTED PER CODE, CLEANED, GOO...\n",
       "59997    33. FOOD AND NON-FOOD CONTACT EQUIPMENT UTENSI...\n",
       "59998                                                  NaN\n",
       "59999    3. MANAGEMENT, FOOD EMPLOYEE AND CONDITIONAL E...\n",
       "Name: Violations, Length: 60000, dtype: object"
      ]
     },
     "execution_count": 469,
     "metadata": {},
     "output_type": "execute_result"
    }
   ],
   "source": [
    "train['Violations']"
   ]
  },
  {
   "cell_type": "markdown",
   "metadata": {},
   "source": [
    "### Latitude : 데이터의 분포가 정규분포 형태는 아닙니다. 그러나, 한 지점을 중심으로 데이터의 분포도가 변화합니다.\n",
    "결과 : 그룹을 나눠 데이터의 분포도에 맞게 그룹핑을 시도해보는 것에 대한 아이디어를 얻을 수 있습니다."
   ]
  },
  {
   "cell_type": "code",
   "execution_count": 470,
   "metadata": {},
   "outputs": [
    {
     "data": {
      "text/plain": [
       "0.003"
      ]
     },
     "execution_count": 470,
     "metadata": {},
     "output_type": "execute_result"
    }
   ],
   "source": [
    "# 빈 값이 존재합니다. 비율은 3% 이므로, 결측치 처리는 dropna()를 진행해도 좋습니다.\n",
    "((train['Latitude'].isnull().sum()/len(train))).round(3)"
   ]
  },
  {
   "cell_type": "code",
   "execution_count": 471,
   "metadata": {},
   "outputs": [
    {
     "data": {
      "text/plain": [
       "<matplotlib.lines.Line2D at 0x2299a0f26c8>"
      ]
     },
     "execution_count": 471,
     "metadata": {},
     "output_type": "execute_result"
    },
    {
     "data": {
      "image/png": "[encoded data removed]",
      "text/plain": [
       "<Figure size 432x288 with 1 Axes>"
      ]
     },
     "metadata": {
      "needs_background": "light"
     },
     "output_type": "display_data"
    }
   ],
   "source": [
    "# 우선, distplot을 확인하기 위해, 빈 값을 제거한 뒤, 해당 값에 대한 분포도를 그립니다.\n",
    "# 정규분포형태는 아닙니다. 그러나, mean 값을 기점으로 그래프의 개수가 나뉘며 & 약 41.825 값을 중심으로 데이터의 분포도가 변화합니다.\n",
    "\n",
    "a_plot= sns.distplot(train.dropna(subset=['Latitude'])['Latitude'])\n",
    "a_plot.axvline(train['Latitude'].mean(),color= 'red', linestyle='--')\n",
    "a_plot.axvline(train['Latitude'].median(),color= 'g', linestyle='-')\n",
    "a_plot.axvline(train['Latitude'].mode().values,color= 'y', linestyle='-')\n",
    "a_plot.axvline(41.825,color= 'b', linestyle='--')"
   ]
  },
  {
   "cell_type": "markdown",
   "metadata": {},
   "source": [
    "### Longitude\t"
   ]
  },
  {
   "cell_type": "code",
   "execution_count": 472,
   "metadata": {},
   "outputs": [
    {
     "data": {
      "text/plain": [
       "<matplotlib.lines.Line2D at 0x2299a5a7748>"
      ]
     },
     "execution_count": 472,
     "metadata": {},
     "output_type": "execute_result"
    },
    {
     "data": {
      "image/png": "[encoded data removed]",
      "text/plain": [
       "<Figure size 432x288 with 1 Axes>"
      ]
     },
     "metadata": {
      "needs_background": "light"
     },
     "output_type": "display_data"
    }
   ],
   "source": [
    "# 어느정도 정규 분포의 형태를 띠고 있지만, 이상치가 존재하며 & 왼쪽으로 치우쳐져 있습니다.\n",
    "\n",
    "a_plot= sns.distplot(train.dropna(subset=['Longitude'])['Longitude'])\n",
    "a_plot.axvline(train['Longitude'].mean(),color= 'red', linestyle='--')\n",
    "a_plot.axvline(train['Longitude'].median(),color= 'g', linestyle='-')\n",
    "a_plot.axvline(train['Longitude'].mode().values,color= 'y', linestyle='-')"
   ]
  },
  {
   "cell_type": "markdown",
   "metadata": {},
   "source": [
    "### Location\t: X 좌표와 Y 좌표를 나누었을 때, X는 Longtitude, Y는 Latitude와 100% 선형관계를 보입니다.\n",
    "결과 : 해당 Location Feature는 ongtitude, Latitude가 완벽히 설명할 수 있으므로 제거합니다."
   ]
  },
  {
   "cell_type": "code",
   "execution_count": 473,
   "metadata": {},
   "outputs": [],
   "source": [
    "train['Location'] = train['Location'].str.lstrip('(')\n",
    "train['Location'] = train['Location'].str.rstrip(')')\n",
    "train['Location_X'],train['Location_Y'] = train['Location'].str.split(',').str[0].astype('float'),train['Location'].str.split(',').str[1].astype('float')"
   ]
  },
  {
   "cell_type": "code",
   "execution_count": 474,
   "metadata": {},
   "outputs": [
    {
     "data": {
      "text/plain": [
       "<matplotlib.axes._subplots.AxesSubplot at 0x2299f1d29c8>"
      ]
     },
     "execution_count": 474,
     "metadata": {},
     "output_type": "execute_result"
    },
    {
     "data": {
      "image/png": "[encoded data removed]",
      "text/plain": [
       "<Figure size 432x288 with 1 Axes>"
      ]
     },
     "metadata": {
      "needs_background": "light"
     },
     "output_type": "display_data"
    }
   ],
   "source": [
    "# X 좌표의 형태는 Longitude 와 유사합니다. 상관관계 확인이 필요합니다.\n",
    "sns.distplot(train.dropna(subset=['Location_X'])['Location_X'].astype('float'))"
   ]
  },
  {
   "cell_type": "code",
   "execution_count": 475,
   "metadata": {},
   "outputs": [
    {
     "data": {
      "text/plain": [
       "Longitude     1.0\n",
       "Location_X    1.0\n",
       "Name: Location_X, dtype: float64"
      ]
     },
     "execution_count": 475,
     "metadata": {},
     "output_type": "execute_result"
    }
   ],
   "source": [
    "# 완벽히 일치하므로 각 값은 서로의 Feature가 대변할 수 있습니다.\n",
    "train.corr()['Location_X'].sort_values(ascending=False).head(2)"
   ]
  },
  {
   "cell_type": "code",
   "execution_count": 476,
   "metadata": {},
   "outputs": [
    {
     "data": {
      "text/plain": [
       "<matplotlib.axes._subplots.AxesSubplot at 0x2299f20fd48>"
      ]
     },
     "execution_count": 476,
     "metadata": {},
     "output_type": "execute_result"
    },
    {
     "data": {
      "image/png": "[encoded data removed]",
      "text/plain": [
       "<Figure size 432x288 with 1 Axes>"
      ]
     },
     "metadata": {
      "needs_background": "light"
     },
     "output_type": "display_data"
    }
   ],
   "source": [
    "# Y 좌표의 형태는 Latitude와 비슷합니다. 상관관계를 확인해보아야 합니다.\n",
    "sns.distplot(train.dropna(subset=['Location_Y'])['Location_Y'].astype('float'))"
   ]
  },
  {
   "cell_type": "code",
   "execution_count": 477,
   "metadata": {},
   "outputs": [
    {
     "data": {
      "text/plain": [
       "Location_Y    1.0\n",
       "Latitude      1.0\n",
       "Name: Location_Y, dtype: float64"
      ]
     },
     "execution_count": 477,
     "metadata": {},
     "output_type": "execute_result"
    }
   ],
   "source": [
    "# 완벽히 일치하므로 각 값은 서로의 Feature가 대변할 수 있습니다.\n",
    "train.corr()['Location_Y'].sort_values(ascending=False).head(2)"
   ]
  },
  {
   "cell_type": "markdown",
   "metadata": {},
   "source": [
    "### Inspection Fail : Target값이며, 약 3:1 비율로 Unbalanced 입니다.\n",
    "\n",
    "결과 : 분류 시, ROC, AUC 등 정확도 외 평가지표를 활용합니다."
   ]
  },
  {
   "cell_type": "code",
   "execution_count": 478,
   "metadata": {},
   "outputs": [
    {
     "name": "stdout",
     "output_type": "stream",
     "text": [
      "0    48284\n",
      "1    11716\n",
      "Name: Inspection Fail, dtype: int64 \n",
      "\n"
     ]
    },
    {
     "data": {
      "text/plain": [
       "<matplotlib.axes._subplots.AxesSubplot at 0x2299d0b89c8>"
      ]
     },
     "execution_count": 478,
     "metadata": {},
     "output_type": "execute_result"
    },
    {
     "data": {
      "image/png": "[encoded data removed]",
      "text/plain": [
       "<Figure size 432x288 with 1 Axes>"
      ]
     },
     "metadata": {
      "needs_background": "light"
     },
     "output_type": "display_data"
    }
   ],
   "source": [
    "print(train['Inspection Fail'].value_counts(),'\\n')\n",
    "sns.countplot(train['Inspection Fail'])"
   ]
  },
  {
   "cell_type": "markdown",
   "metadata": {},
   "source": [
    "## 1.2 EDA의 결과를 토대로 Feature Engineering 및 Preprocessing을 진행하세요\n",
    "> 새로운 feature를 만드는 작업뿐만이 아니라, 필요한 feature가 적절한 데이터 타입을 가지고 있지 않다면 변환합니다"
   ]
  },
  {
   "cell_type": "code",
   "execution_count": 479,
   "metadata": {},
   "outputs": [],
   "source": [
    "# 이 곳에 답안을 작성해주시길 바랍니다"
   ]
  },
  {
   "cell_type": "markdown",
   "metadata": {
    "colab_type": "text",
    "id": "nB8CQnExGqzr"
   },
   "source": [
    "# Part 2: 모델링 (Modeling)"
   ]
  },
  {
   "cell_type": "markdown",
   "metadata": {},
   "source": [
    "## 2.1 검증 방식 (Cross-validation / Hold-out Validation)을 정한 후 데이터셋을 목적에 맞게 분할하세요"
   ]
  },
  {
   "cell_type": "code",
   "execution_count": 480,
   "metadata": {
    "colab": {},
    "colab_type": "code",
    "id": "YQ3hD2G1IbVH"
   },
   "outputs": [],
   "source": [
    "# 이 곳에 답안을 작성해주시길 바랍니다"
   ]
  },
  {
   "cell_type": "markdown",
   "metadata": {},
   "source": [
    "## 2.2 모델 학습을 위한 파이프라인을 구축 후 학습(fit)까지 진행하세요\n",
    "> 모델은 scikit-learn, xgboost, lightgbm 등 어떤 라이브러리를 사용하셔도 괜찮지만 특정 라이브러리는 **설치 및 설정에 시간이 소요되는 점**을 감안하시기 바랍니다"
   ]
  },
  {
   "cell_type": "code",
   "execution_count": 481,
   "metadata": {},
   "outputs": [],
   "source": [
    "# 이 곳에 답안을 작성해주시길 바랍니다"
   ]
  },
  {
   "cell_type": "markdown",
   "metadata": {},
   "source": [
    "## 2.3 테스트셋의 ROC / AUC 검증 점수를 예측합니다\n",
    "> 제작한 모델을 활용해서 테스트셋의 **확률**을 예측하세요 (`ROC/AUC 검증 점수`를 **0.65 혹은 그 이상** 달성한다면 매우 훌륭한 모델입니다). 명시된 성능이 나오지 않았더라도 이 문제에 모든 시간을 소요하시면 안됩니다 (점수가 안나오는 경우 여러분이 구축한 파이프라인 모델링 및 모델링 과정으로 평가합니다)"
   ]
  },
  {
   "cell_type": "code",
   "execution_count": 482,
   "metadata": {},
   "outputs": [],
   "source": [
    "# 이 곳에 답안을 작성해주시길 바랍니다"
   ]
  },
  {
   "cell_type": "markdown",
   "metadata": {},
   "source": [
    "## 2.4 하이퍼 파라미터 튜닝을 통해서 모델을 개선하세요\n",
    "> `RandomSearchCV`, `GridSearchCV` 등을 활용해서 모델의 성능을 개선합니다. 범위 설정에 따라 시간이 매우 소요될 수 있습니다."
   ]
  },
  {
   "cell_type": "code",
   "execution_count": 483,
   "metadata": {},
   "outputs": [],
   "source": [
    "# 이 곳에 답안을 작성해주시길 바랍니다"
   ]
  },
  {
   "cell_type": "markdown",
   "metadata": {
    "colab_type": "text",
    "id": "u98nLGBTMo9s"
   },
   "source": [
    "# Part 3: 시각화 (Visualization)\n",
    "\n",
    "> 모델의 해석을 위한 시각화를 해주세요. 아래의 제시 된 종류 중 **2가지**를 선택하세요 (시각화에서 가장 중요한 것은 **여러분의 해석**입니다):\n",
    "> - Permutation Importances\n",
    "> - Partial Dependence Plot, 1 feature isolation\n",
    "> - Partial Dependence Plot, 2 features interaction\n",
    "> - Shapley Values (SHAP)"
   ]
  },
  {
   "cell_type": "code",
   "execution_count": null,
   "metadata": {
    "colab": {},
    "colab_type": "code",
    "id": "_Q379i5CIeKY"
   },
   "outputs": [],
   "source": [
    "# 이 곳에 답안을 작성해주시길 바랍니다"
   ]
  }
 ],
 "metadata": {
  "kernelspec": {
   "display_name": "Python 3",
   "language": "python",
   "name": "python3"
  },
  "language_info": {
   "codemirror_mode": {
    "name": "ipython",
    "version": 3
   },
   "file_extension": ".py",
   "mimetype": "text/x-python",
   "name": "python",
   "nbconvert_exporter": "python",
   "pygments_lexer": "ipython3",
   "version": "3.7.4"
  }
 },
 "nbformat": 4,
 "nbformat_minor": 4
}
